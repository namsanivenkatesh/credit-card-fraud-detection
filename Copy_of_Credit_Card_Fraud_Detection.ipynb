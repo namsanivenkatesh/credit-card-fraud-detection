{
  "cells": [
    {
      "cell_type": "markdown",
      "metadata": {
        "id": "view-in-github",
        "colab_type": "text"
      },
      "source": [
        "<a href=\"https://colab.research.google.com/github/namsanivenkatesh/credit-card-fraud-detection/blob/main/Copy_of_Credit_Card_Fraud_Detection.ipynb\" target=\"_parent\"><img src=\"https://colab.research.google.com/assets/colab-badge.svg\" alt=\"Open In Colab\"/></a>"
      ]
    },
    {
      "cell_type": "markdown",
      "metadata": {
        "id": "TDnoEQTWStTz"
      },
      "source": [
        "Importing the Dependencies"
      ]
    },
    {
      "cell_type": "code",
      "execution_count": null,
      "metadata": {
        "id": "hlNfrSC1PGfZ"
      },
      "outputs": [],
      "source": [
        "import numpy as np # linear algebra\n",
        "import pandas as pd\n",
        "# data processing,as we are using and csv dataset file where A CSV is a comma-separated values file. So we use pandas to analyse and process the data. In pandas we use dataframes. Dataframes means a structured table.\n",
        "\n",
        "from sklearn.model_selection import train_test_split\n",
        "# sklearn is a python library to implement machine learning models and statistical modelling.\n",
        "\n",
        "from sklearn.linear_model import LogisticRegression\n",
        "# allows to check the accuracy of the model. Logistic regression is commonly used for prediction and classification problems.\n",
        "# Logistic regression models can help teams identify data anomalies, which are predictive of fraud\n",
        "\n",
        "from sklearn.preprocessing import RobustScaler\n",
        "from sklearn.preprocessing import StandardScaler\n",
        "# By using RobustScaler(), we can remove the outliers and then use either StandardScaler or MinMaxScaler for preprocessing the dataset. It scales features using statistics that are robust to outliers. This method removes the median and scales the data in the range between 1st quartile and 3rd quartile.\n",
        "\n",
        "# from sklearn.utils import resample\n",
        "\n",
        "from sklearn import metrics\n",
        "# Commonly used metrics are Accuracy, Precision, Recall, F1 Score, Log loss, etc.\n",
        "from sklearn.metrics import classification_report # A classification report is a tool used in machine learning to evaluate the performance of a classification model. It provides a summary of various metrics that describe the model's performance, such as precision, recall, and F1-score.\n",
        "\n",
        "import seaborn as sns # statistical data visualization\n",
        "import matplotlib.pyplot as plt# data visualization"
      ]
    },
    {
      "cell_type": "code",
      "execution_count": null,
      "metadata": {
        "id": "W0CTsNioTKnJ"
      },
      "outputs": [],
      "source": [
        "# loading the dataset to a Pandas DataFrame\n",
        "credit_card_data = pd.read_csv('/content/creditcard.csv')"
      ]
    },
    {
      "cell_type": "code",
      "execution_count": null,
      "metadata": {
        "colab": {
          "base_uri": "https://localhost:8080/",
          "height": 290
        },
        "id": "MIt4Mp4Os1Np",
        "outputId": "699bd88e-a782-42ab-963f-2572aa3020f8"
      },
      "outputs": [
        {
          "output_type": "display_data",
          "data": {
            "text/plain": [
              "<Figure size 300x300 with 1 Axes>"
            ],
            "image/png": "[encoded data removed]"
          },
          "metadata": {}
        }
      ],
      "source": [
        "labels = credit_card_data['Class'].value_counts().index\n",
        "sizes = credit_card_data['Class'].value_counts().values\n",
        "\n",
        "plt.figure(figsize=(3,3))\n",
        "plt.pie(sizes, labels=labels, autopct='%1.1f%%', startangle=140)\n",
        "plt.axis('equal')\n",
        "plt.title('Class Distribution')\n",
        "plt.show()"
      ]
    },
    {
      "cell_type": "code",
      "source": [
        "inputs = credit_card_data.drop(\"Class\", axis=\"columns\")\n",
        "targets = credit_card_data.Class\n",
        "x_train, x_test, y_train, y_test = train_test_split( inputs, targets, test_size=0.2, random_state=10)"
      ],
      "metadata": {
        "id": "rNdyYQyu1NgV"
      },
      "execution_count": null,
      "outputs": []
    },
    {
      "cell_type": "code",
      "source": [
        "print(\"y test value counts:\\n\" ,y_test.value_counts(),\"\\n\\n\")\n",
        "print(\"y train value counts:\\n\" ,y_train.value_counts())"
      ],
      "metadata": {
        "colab": {
          "base_uri": "https://localhost:8080/"
        },
        "id": "xREkIqvS1sL4",
        "outputId": "76fd4d26-8252-48b8-85cf-93c792ff6359"
      },
      "execution_count": null,
      "outputs": [
        {
          "output_type": "stream",
          "name": "stdout",
          "text": [
            "y test value counts:\n",
            " 0    56868\n",
            "1       94\n",
            "Name: Class, dtype: int64 \n",
            "\n",
            "\n",
            "y train value counts:\n",
            " 0    227447\n",
            "1       398\n",
            "Name: Class, dtype: int64\n"
          ]
        }
      ]
    },
    {
      "cell_type": "markdown",
      "source": [
        "LOGISTIC REGRESSION"
      ],
      "metadata": {
        "id": "jz3Qfc9D2ZGN"
      }
    },
    {
      "cell_type": "code",
      "source": [
        "from sklearn.metrics import classification_report, fbeta_score, roc_auc_score\n",
        "\n",
        "lg = LogisticRegression(max_iter=10000)\n",
        "lg.fit(x_train, y_train)\n",
        "y_predicted = lg.predict(x_test)\n",
        "accuracy = lg.score(x_test, y_test)\n",
        "\n",
        "# Calculate F2 score\n",
        "f2score = fbeta_score(y_test, y_predicted, beta=2)\n",
        "\n",
        "# Calculate ROC-AUC score\n",
        "y_proba = lg.predict_proba(x_test)[:, 1]  # Probability of class 1\n",
        "roc_auc = roc_auc_score(y_test, y_proba)\n",
        "\n",
        "print(classification_report(y_test, y_predicted))\n",
        "print(\"Accuracy:\", accuracy)\n",
        "print(\"F2 Score:\", f2score)\n",
        "print(\"ROC-AUC Score:\", roc_auc)\n"
      ],
      "metadata": {
        "colab": {
          "base_uri": "https://localhost:8080/"
        },
        "id": "NHZK7Fwx2HFE",
        "outputId": "07fa3754-07b8-46e7-d4fc-cc5db4f59050"
      },
      "execution_count": null,
      "outputs": [
        {
          "output_type": "stream",
          "name": "stdout",
          "text": [
            "              precision    recall  f1-score   support\n",
            "\n",
            "           0       1.00      1.00      1.00     56868\n",
            "           1       0.85      0.66      0.74        94\n",
            "\n",
            "    accuracy                           1.00     56962\n",
            "   macro avg       0.92      0.83      0.87     56962\n",
            "weighted avg       1.00      1.00      1.00     56962\n",
            "\n",
            "Accuracy: 0.9992451107756047\n",
            "F2 Score: 0.690423162583519\n",
            "ROC-AUC Score: 0.937720649088071\n"
          ]
        }
      ]
    },
    {
      "cell_type": "code",
      "source": [
        "import matplotlib.pyplot as plt\n",
        "from sklearn.metrics import roc_curve\n",
        "\n",
        "# Assuming lg is already trained and y_test, y_proba are calculated\n",
        "fpr, tpr, thresholds = roc_curve(y_test, y_proba)\n",
        "\n",
        "# Plot ROC Curve\n",
        "plt.figure(figsize=(12, 6))\n",
        "\n",
        "# Subplot for ROC Curve\n",
        "plt.subplot(1, 2, 1)\n",
        "plt.plot(fpr, tpr, label='ROC Curve')\n",
        "plt.plot([0, 1], [0, 1], 'k--', label='Random Guessing')\n",
        "plt.xlabel('False Positive Rate')\n",
        "plt.ylabel('True Positive Rate')\n",
        "plt.title('ROC Curve')\n",
        "plt.legend()\n",
        "print(\"ROC-AUC Score:\", roc_auc)\n",
        "# Subplot for Accuracy\n",
        "plt.subplot(1, 2, 2)\n",
        "plt.bar(['Accuracy'], [accuracy], color='skyblue')\n",
        "plt.xlabel('Metric')\n",
        "plt.ylabel('Value')\n",
        "plt.title('Accuracy')\n",
        "print(\"Accuracy:\", accuracy)\n",
        "plt.ylim(0, 1)\n",
        "\n",
        "# Adjust layout\n",
        "plt.tight_layout()\n",
        "\n",
        "plt.show()"
      ],
      "metadata": {
        "colab": {
          "base_uri": "https://localhost:8080/",
          "height": 642
        },
        "id": "Odnt7xXF_GS7",
        "outputId": "25c4d7e0-dc03-40da-c85b-faeaf25171e1"
      },
      "execution_count": null,
      "outputs": [
        {
          "output_type": "stream",
          "name": "stdout",
          "text": [
            "ROC-AUC Score: 0.937720649088071\n",
            "Accuracy: 0.9992451107756047\n"
          ]
        },
        {
          "output_type": "display_data",
          "data": {
            "text/plain": [
              "<Figure size 1200x600 with 2 Axes>"
            ],
            "image/png": "[encoded data removed]"
          },
          "metadata": {}
        }
      ]
    },
    {
      "cell_type": "markdown",
      "source": [
        "RANDOM FOREST CLASSIFIER"
      ],
      "metadata": {
        "id": "9jbzQt148p9k"
      }
    },
    {
      "cell_type": "code",
      "source": [
        "# Assuming you have already loaded and preprocessed the data\n",
        "\n",
        "from imblearn.over_sampling import SMOTE\n",
        "from sklearn.ensemble import RandomForestClassifier\n",
        "from sklearn.metrics import classification_report, fbeta_score, roc_auc_score\n",
        "\n",
        "\n",
        "# Apply SMOTE to balance the training data\n",
        "smote = SMOTE(random_state=42)\n",
        "X_resampled, y_resampled = smote.fit_resample(x_train, y_train)\n",
        "\n",
        "# Train a Random Forest Classifier\n",
        "rf_classifier = RandomForestClassifier(n_estimators=100, random_state=42)\n",
        "rf_classifier.fit(X_resampled, y_resampled)\n",
        "\n",
        "# Predict on the test set\n",
        "y_predicted = rf_classifier.predict(x_test)\n",
        "\n",
        "# Evaluate the model\n",
        "from sklearn.metrics import classification_report\n",
        "\n",
        "report = classification_report(y_test, y_predicted)\n",
        "print(report)\n",
        "\n",
        "f2score = fbeta_score(y_test, y_predicted, beta=2)\n",
        "\n",
        "# Calculate ROC-AUC score\n",
        "y_proba = rf_classifier.predict_proba(x_test)[:, 1]  # Probability of class 1\n",
        "roc_auc = roc_auc_score(y_test, y_proba)\n",
        "\n",
        "print(\"F2 Score:\", f2score)\n",
        "print(\"ROC-AUC Score:\", roc_auc)"
      ],
      "metadata": {
        "colab": {
          "base_uri": "https://localhost:8080/"
        },
        "id": "98VGOztV24MI",
        "outputId": "d5fae39a-5653-4671-941f-42b69378fa87"
      },
      "execution_count": null,
      "outputs": [
        {
          "output_type": "stream",
          "name": "stdout",
          "text": [
            "              precision    recall  f1-score   support\n",
            "\n",
            "           0       1.00      1.00      1.00     56868\n",
            "           1       0.93      0.82      0.87        94\n",
            "\n",
            "    accuracy                           1.00     56962\n",
            "   macro avg       0.96      0.91      0.93     56962\n",
            "weighted avg       1.00      1.00      1.00     56962\n",
            "\n",
            "F2 Score: 0.8387799564270152\n",
            "ROC-AUC Score: 0.9630530163918234\n"
          ]
        }
      ]
    },
    {
      "cell_type": "code",
      "source": [
        "import matplotlib.pyplot as plt\n",
        "from sklearn.metrics import roc_curve\n",
        "\n",
        "# Assuming lg is already trained and y_test, y_proba are calculated\n",
        "fpr, tpr, thresholds = roc_curve(y_test, y_proba)\n",
        "\n",
        "# Plot ROC Curve\n",
        "plt.figure(figsize=(12, 6))\n",
        "\n",
        "# Subplot for ROC Curve\n",
        "plt.subplot(1, 2, 1)\n",
        "plt.plot(fpr, tpr, label='ROC Curve')\n",
        "plt.plot([0, 1], [0, 1], 'k--', label='Random Guessing')\n",
        "plt.xlabel('False Positive Rate')\n",
        "plt.ylabel('True Positive Rate')\n",
        "plt.title('ROC Curve')\n",
        "plt.legend()\n",
        "print(\"ROC-AUC Score:\", roc_auc)\n",
        "# Subplot for Accuracy\n",
        "plt.subplot(1, 2, 2)\n",
        "plt.bar(['Accuracy'], [accuracy], color='skyblue')\n",
        "plt.xlabel('Metric')\n",
        "plt.ylabel('Value')\n",
        "plt.title('Accuracy')\n",
        "print(\"Accuracy:\", accuracy)\n",
        "plt.ylim(0, 1)\n",
        "\n",
        "# Adjust layout\n",
        "plt.tight_layout()\n",
        "\n",
        "plt.show()"
      ],
      "metadata": {
        "colab": {
          "base_uri": "https://localhost:8080/",
          "height": 642
        },
        "id": "vT3OttS0_6FT",
        "outputId": "d67620ec-7a72-46d6-c187-b45ec01097ac"
      },
      "execution_count": null,
      "outputs": [
        {
          "output_type": "stream",
          "name": "stdout",
          "text": [
            "ROC-AUC Score: 0.9630530163918234\n",
            "Accuracy: 0.9992451107756047\n"
          ]
        },
        {
          "output_type": "display_data",
          "data": {
            "text/plain": [
              "<Figure size 1200x600 with 2 Axes>"
            ],
            "image/png": "[encoded data removed]"
          },
          "metadata": {}
        }
      ]
    },
    {
      "cell_type": "markdown",
      "source": [
        "GAUSSIAN NB"
      ],
      "metadata": {
        "id": "5NAUVmmv8t1V"
      }
    },
    {
      "cell_type": "code",
      "source": [
        "from imblearn.over_sampling import SMOTE\n",
        "from sklearn.naive_bayes import GaussianNB\n",
        "from sklearn.metrics import classification_report, fbeta_score, roc_auc_score\n",
        "\n",
        "# Apply SMOTE to balance the training data\n",
        "smote = SMOTE(random_state=42)\n",
        "X_resampled, y_resampled = smote.fit_resample(x_train, y_train)\n",
        "\n",
        "# Train a Gaussian Naive Bayes Classifier\n",
        "nb_classifier = GaussianNB()\n",
        "nb_classifier.fit(X_resampled, y_resampled)\n",
        "\n",
        "# Predict on the test set\n",
        "y_predicted = nb_classifier.predict(x_test)\n",
        "\n",
        "# Evaluate the model\n",
        "report = classification_report(y_test, y_predicted)\n",
        "print(report)\n",
        "\n",
        "f2score = fbeta_score(y_test, y_predicted, beta=2)\n",
        "\n",
        "rf_classifier = RandomForestClassifier(n_estimators=100, random_state=42)\n",
        "rf_classifier.fit(X_resampled, y_resampled)\n",
        "y_proba = rf_classifier.predict_proba(x_test)[:, 1]  # Probability of class 1\n",
        "roc_auc = roc_auc_score(y_test, y_proba)\n",
        "print(\"F2 Score:\", f2score)\n",
        "print(\"ROC-AUC Score:\", roc_auc)"
      ],
      "metadata": {
        "colab": {
          "base_uri": "https://localhost:8080/"
        },
        "id": "DxlTb4tf5jGn",
        "outputId": "9534ec42-368d-4fe2-feac-56fb76656745"
      },
      "execution_count": null,
      "outputs": [
        {
          "output_type": "stream",
          "name": "stdout",
          "text": [
            "              precision    recall  f1-score   support\n",
            "\n",
            "           0       1.00      0.99      1.00     56868\n",
            "           1       0.14      0.79      0.24        94\n",
            "\n",
            "    accuracy                           0.99     56962\n",
            "   macro avg       0.57      0.89      0.62     56962\n",
            "weighted avg       1.00      0.99      0.99     56962\n",
            "\n",
            "F2 Score: 0.41713641488162345\n",
            "ROC-AUC Score: 0.9630530163918234\n"
          ]
        }
      ]
    },
    {
      "cell_type": "code",
      "source": [
        "import matplotlib.pyplot as plt\n",
        "from sklearn.metrics import roc_curve\n",
        "\n",
        "# Assuming lg is already trained and y_test, y_proba are calculated\n",
        "fpr, tpr, thresholds = roc_curve(y_test, y_proba)\n",
        "\n",
        "# Plot ROC Curve\n",
        "plt.figure(figsize=(12, 6))\n",
        "\n",
        "# Subplot for ROC Curve\n",
        "plt.subplot(1, 2, 1)\n",
        "plt.plot(fpr, tpr, label='ROC Curve')\n",
        "plt.plot([0, 1], [0, 1], 'k--', label='Random Guessing')\n",
        "plt.xlabel('False Positive Rate')\n",
        "plt.ylabel('True Positive Rate')\n",
        "plt.title('ROC Curve')\n",
        "plt.legend()\n",
        "print(\"ROC-AUC Score:\", roc_auc)\n",
        "# Subplot for Accuracy\n",
        "plt.subplot(1, 2, 2)\n",
        "plt.bar(['Accuracy'], [accuracy], color='skyblue')\n",
        "plt.xlabel('Metric')\n",
        "plt.ylabel('Value')\n",
        "plt.title('Accuracy')\n",
        "print(\"Accuracy:\", accuracy)\n",
        "plt.ylim(0, 1)\n",
        "\n",
        "# Adjust layout\n",
        "plt.tight_layout()\n",
        "\n",
        "plt.show()"
      ],
      "metadata": {
        "colab": {
          "base_uri": "https://localhost:8080/",
          "height": 642
        },
        "id": "IzgSZN4C0D-M",
        "outputId": "77f64ea2-ed48-4e4b-a0f2-b406225ff95f"
      },
      "execution_count": null,
      "outputs": [
        {
          "output_type": "stream",
          "name": "stdout",
          "text": [
            "ROC-AUC Score: 0.9630530163918234\n",
            "Accuracy: 0.9992451107756047\n"
          ]
        },
        {
          "output_type": "display_data",
          "data": {
            "text/plain": [
              "<Figure size 1200x600 with 2 Axes>"
            ],
            "image/png": "[encoded data removed]"
          },
          "metadata": {}
        }
      ]
    },
    {
      "cell_type": "markdown",
      "source": [
        "KNN"
      ],
      "metadata": {
        "id": "WMSfZRsT89wB"
      }
    },
    {
      "cell_type": "code",
      "source": [
        "from imblearn.over_sampling import SMOTE\n",
        "from sklearn.neighbors import KNeighborsClassifier\n",
        "from sklearn.metrics import classification_report, fbeta_score, roc_auc_score\n",
        "\n",
        "# Apply SMOTE to balance the training data\n",
        "smote = SMOTE(random_state=42)\n",
        "X_resampled, y_resampled = smote.fit_resample(x_train, y_train)\n",
        "\n",
        "# Train a k-Nearest Neighbors Classifier\n",
        "knn_classifier = KNeighborsClassifier(n_neighbors=5)  # You can change the number of neighbors\n",
        "knn_classifier.fit(X_resampled, y_resampled)\n",
        "\n",
        "# Predict on the test set\n",
        "y_predicted = knn_classifier.predict(x_test)\n",
        "\n",
        "# Evaluate the model\n",
        "report = classification_report(y_test, y_predicted)\n",
        "print(report)\n",
        "\n",
        "f2score = fbeta_score(y_test, y_predicted, beta=2)\n",
        "y_proba = rf_classifier.predict_proba(x_test)[:, 1]  # Probability of class 1\n",
        "roc_auc = roc_auc_score(y_test, y_proba)\n",
        "print(\"F2 Score:\", f2score)\n",
        "print(\"ROC-AUC Score:\", roc_auc)"
      ],
      "metadata": {
        "colab": {
          "base_uri": "https://localhost:8080/"
        },
        "id": "tyHgZJ3K8xZ6",
        "outputId": "146aa593-5bd5-4804-d2a3-592b7ff12915"
      },
      "execution_count": null,
      "outputs": [
        {
          "output_type": "stream",
          "name": "stdout",
          "text": [
            "              precision    recall  f1-score   support\n",
            "\n",
            "           0       1.00      0.95      0.97     56868\n",
            "           1       0.02      0.49      0.03        94\n",
            "\n",
            "    accuracy                           0.95     56962\n",
            "   macro avg       0.51      0.72      0.50     56962\n",
            "weighted avg       1.00      0.95      0.97     56962\n",
            "\n",
            "F2 Score: 0.07061713233036537\n",
            "ROC-AUC Score: 0.9630530163918234\n"
          ]
        }
      ]
    },
    {
      "cell_type": "code",
      "source": [
        "import matplotlib.pyplot as plt\n",
        "from sklearn.metrics import roc_curve\n",
        "\n",
        "# Assuming lg is already trained and y_test, y_proba are calculated\n",
        "fpr, tpr, thresholds = roc_curve(y_test, y_proba)\n",
        "\n",
        "# Plot ROC Curve\n",
        "plt.figure(figsize=(12, 6))\n",
        "\n",
        "# Subplot for ROC Curve\n",
        "plt.subplot(1, 2, 1)\n",
        "plt.plot(fpr, tpr, label='ROC Curve')\n",
        "plt.plot([0, 1], [0, 1], 'k--', label='Random Guessing')\n",
        "plt.xlabel('False Positive Rate')\n",
        "plt.ylabel('True Positive Rate')\n",
        "plt.title('ROC Curve')\n",
        "plt.legend()\n",
        "print(\"ROC-AUC Score:\", roc_auc)\n",
        "# Subplot for Accuracy\n",
        "plt.subplot(1, 2, 2)\n",
        "plt.bar(['Accuracy'], [accuracy], color='skyblue')\n",
        "plt.xlabel('Metric')\n",
        "plt.ylabel('Value')\n",
        "plt.title('Accuracy')\n",
        "print(\"Accuracy:\", accuracy)\n",
        "plt.ylim(0, 1)\n",
        "\n",
        "# Adjust layout\n",
        "plt.tight_layout()\n",
        "\n",
        "plt.show()"
      ],
      "metadata": {
        "colab": {
          "base_uri": "https://localhost:8080/",
          "height": 642
        },
        "id": "H_MRQGOb2ey2",
        "outputId": "52c8eedb-e8ea-4a89-e052-4527403766d6"
      },
      "execution_count": null,
      "outputs": [
        {
          "output_type": "stream",
          "name": "stdout",
          "text": [
            "ROC-AUC Score: 0.9630530163918234\n",
            "Accuracy: 0.9992451107756047\n"
          ]
        },
        {
          "output_type": "display_data",
          "data": {
            "text/plain": [
              "<Figure size 1200x600 with 2 Axes>"
            ],
            "image/png": "[encoded data removed]"
          },
          "metadata": {}
        }
      ]
    },
    {
      "cell_type": "markdown",
      "source": [
        "DECISION TREE CLLASSIFIER"
      ],
      "metadata": {
        "id": "1K5JviYs9zzj"
      }
    },
    {
      "cell_type": "code",
      "source": [
        "from imblearn.over_sampling import SMOTE\n",
        "from sklearn.tree import DecisionTreeClassifier\n",
        "from sklearn.metrics import classification_report, fbeta_score, roc_auc_score\n",
        "\n",
        "# Apply SMOTE to balance the training data\n",
        "smote = SMOTE(random_state=42)\n",
        "X_resampled, y_resampled = smote.fit_resample(x_train, y_train)\n",
        "\n",
        "# Train a Decision Tree Classifier\n",
        "dt_classifier = DecisionTreeClassifier(random_state=42)\n",
        "dt_classifier.fit(X_resampled, y_resampled)\n",
        "\n",
        "# Predict on the test set\n",
        "y_predicted = dt_classifier.predict(x_test)\n",
        "\n",
        "# Evaluate the model\n",
        "report = classification_report(y_test, y_predicted)\n",
        "print(report)\n",
        "\n",
        "f2score = fbeta_score(y_test, y_predicted, beta=2)\n",
        "y_proba = rf_classifier.predict_proba(x_test)[:, 1]  # Probability of class 1\n",
        "roc_auc = roc_auc_score(y_test, y_proba)\n",
        "print(\"F2 Score:\", f2score)\n",
        "print(\"ROC-AUC Score:\", roc_auc)"
      ],
      "metadata": {
        "colab": {
          "base_uri": "https://localhost:8080/"
        },
        "id": "2nn1cIX_9o5X",
        "outputId": "e665f59d-79bc-43fd-ee20-308d3eb3bf4a"
      },
      "execution_count": null,
      "outputs": [
        {
          "output_type": "stream",
          "name": "stdout",
          "text": [
            "              precision    recall  f1-score   support\n",
            "\n",
            "           0       1.00      1.00      1.00     56868\n",
            "           1       0.44      0.82      0.57        94\n",
            "\n",
            "    accuracy                           1.00     56962\n",
            "   macro avg       0.72      0.91      0.78     56962\n",
            "weighted avg       1.00      1.00      1.00     56962\n",
            "\n",
            "F2 Score: 0.6974637681159421\n",
            "ROC-AUC Score: 0.9630530163918234\n"
          ]
        }
      ]
    },
    {
      "cell_type": "code",
      "source": [
        "import matplotlib.pyplot as plt\n",
        "from sklearn.metrics import roc_curve\n",
        "\n",
        "# Assuming lg is already trained and y_test, y_proba are calculated\n",
        "fpr, tpr, thresholds = roc_curve(y_test, y_proba)\n",
        "\n",
        "# Plot ROC Curve\n",
        "plt.figure(figsize=(12, 6))\n",
        "\n",
        "# Subplot for ROC Curve\n",
        "plt.subplot(1, 2, 1)\n",
        "plt.plot(fpr, tpr, label='ROC Curve')\n",
        "plt.plot([0, 1], [0, 1], 'k--', label='Random Guessing')\n",
        "plt.xlabel('False Positive Rate')\n",
        "plt.ylabel('True Positive Rate')\n",
        "plt.title('ROC Curve')\n",
        "plt.legend()\n",
        "print(\"ROC-AUC Score:\", roc_auc)\n",
        "# Subplot for Accuracy\n",
        "plt.subplot(1, 2, 2)\n",
        "plt.bar(['Accuracy'], [accuracy], color='skyblue')\n",
        "plt.xlabel('Metric')\n",
        "plt.ylabel('Value')\n",
        "plt.title('Accuracy')\n",
        "print(\"Accuracy:\", accuracy)\n",
        "plt.ylim(0, 1)\n",
        "\n",
        "# Adjust layout\n",
        "plt.tight_layout()\n",
        "\n",
        "plt.show()"
      ],
      "metadata": {
        "colab": {
          "base_uri": "https://localhost:8080/",
          "height": 642
        },
        "id": "ftrEa1Cn5KGP",
        "outputId": "1a616409-118f-495c-bdb5-086e81e4471e"
      },
      "execution_count": null,
      "outputs": [
        {
          "output_type": "stream",
          "name": "stdout",
          "text": [
            "ROC-AUC Score: 0.9630530163918234\n",
            "Accuracy: 0.9992451107756047\n"
          ]
        },
        {
          "output_type": "display_data",
          "data": {
            "text/plain": [
              "<Figure size 1200x600 with 2 Axes>"
            ],
            "image/png": "[encoded data removed]"
          },
          "metadata": {}
        }
      ]
    },
    {
      "cell_type": "markdown",
      "source": [
        "![image.png](data:image/png;base64,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)"
      ],
      "metadata": {
        "id": "bOQEt_xI-EIW"
      }
    },
    {
      "cell_type": "code",
      "execution_count": null,
      "metadata": {
        "id": "UuIv4XkJARxa"
      },
      "outputs": [],
      "source": [
        "import numpy as np\n",
        "import pandas as pd\n",
        "from sklearn.model_selection import train_test_split\n",
        "from sklearn.linear_model import LogisticRegression\n",
        "from sklearn.preprocessing import RobustScaler, StandardScaler\n",
        "from sklearn import metrics\n",
        "from sklearn.metrics import classification_report\n",
        "import seaborn as sns\n",
        "import matplotlib.pyplot as plt\n",
        "from sklearn.utils import resample  # Add this line\n",
        "\n",
        "credit_card_data = pd.read_csv('/content/creditcard.csv')\n",
        "\n",
        "# Assuming 'credit_card_data' has a column 'Class' indicating the class labels\n",
        "# Split the dataset into features (X) and labels (y)\n",
        "X = credit_card_data.drop(columns=['Class'])\n",
        "y = credit_card_data['Class']\n",
        "\n",
        "# Split the data into training and testing sets\n",
        "X_train, X_test, y_train, y_test = train_test_split(X, y, test_size=0.2, random_state=42)\n",
        "\n",
        "# Concatenate the training data back together\n",
        "train_data = pd.concat([X_train, y_train], axis=1)\n",
        "\n",
        "# Separate classes\n",
        "class_0 = train_data[train_data['Class'] == 0]\n",
        "class_1 = train_data[train_data['Class'] == 1]\n",
        "\n",
        "# Upsample the minority class (class_1)\n",
        "class_1_upsampled = resample(class_1, replace=True, n_samples=len(class_0), random_state=42)\n",
        "\n",
        "# Combine majority class with upsampled minority class\n",
        "balanced_train_data = pd.concat([class_0, class_1_upsampled])\n",
        "\n",
        "# Shuffle the data\n",
        "balanced_train_data = balanced_train_data.sample(frac=1, random_state=42)\n",
        "\n",
        "# Split the balanced data back into features and labels\n",
        "X_train_balanced = balanced_train_data.drop(columns=['Class'])\n",
        "y_train_balanced = balanced_train_data['Class']\n"
      ]
    },
    {
      "cell_type": "code",
      "execution_count": null,
      "metadata": {
        "colab": {
          "base_uri": "https://localhost:8080/"
        },
        "id": "yF_Z8CWHBqMj",
        "outputId": "b88492ee-6cc1-49d8-a96c-fca253f35d8b"
      },
      "outputs": [
        {
          "output_type": "stream",
          "name": "stdout",
          "text": [
            "Class distribution before balancing:\n",
            "0    227451\n",
            "1       394\n",
            "Name: Class, dtype: int64\n",
            "Class distribution after balancing:\n",
            "0    227451\n",
            "1    227451\n",
            "Name: Class, dtype: int64\n"
          ]
        }
      ],
      "source": [
        "print(\"Class distribution before balancing:\")\n",
        "print(train_data['Class'].value_counts())\n",
        "\n",
        "print(\"Class distribution after balancing:\")\n",
        "print(balanced_train_data['Class'].value_counts())\n"
      ]
    },
    {
      "cell_type": "code",
      "execution_count": null,
      "metadata": {
        "colab": {
          "base_uri": "https://localhost:8080/",
          "height": 255
        },
        "id": "o_iMfyHsTa6s",
        "outputId": "c72a8234-9b15-406f-f47f-8fb990fc879a"
      },
      "outputs": [
        {
          "output_type": "execute_result",
          "data": {
            "text/plain": [
              "            Time        V1        V2        V3        V4        V5        V6  \\\n",
              "258837  158848.0  1.849293  0.080386 -1.831062  1.216023  0.551383 -1.104685   \n",
              "6641      8169.0  0.857321  4.093912 -7.423894  7.380245  0.973366 -2.730762   \n",
              "208651  137211.0  0.630579  1.183631 -5.066283  2.179903 -0.703376 -0.103614   \n",
              "120505   75851.0 -4.793667  3.418911 -5.074445  4.035987 -3.527875 -1.923242   \n",
              "245347  152710.0  0.051075  1.310427  0.733222  2.620282  1.402358  0.528489   \n",
              "\n",
              "              V7        V8        V9  ...       V21       V22       V23  \\\n",
              "258837  0.846525 -0.412037 -0.478343  ...  0.239588  0.601600 -0.087535   \n",
              "6641   -1.496497  0.543015 -2.351190  ...  0.375026  0.145400  0.240603   \n",
              "208651 -3.490350  1.094734 -0.717418  ...  0.621622  0.043807  0.102711   \n",
              "120505 -5.065981  1.996885 -3.097379  ...  1.168618  0.289531 -0.371888   \n",
              "245347  1.086014 -0.146423 -1.724333  ...  0.229936  0.766927 -0.189624   \n",
              "\n",
              "             V24       V25       V26       V27       V28  Amount  Class  \n",
              "258837  0.031196  0.397128 -0.514090 -0.046427 -0.057773   89.40      0  \n",
              "6641   -0.234649 -1.004881  0.435832  0.618324  0.148469    1.00      1  \n",
              "208651 -0.601505  0.127371 -0.163009  0.853792  0.356503   39.45      1  \n",
              "120505  0.144761  0.084735 -0.197431  0.328672  0.835395   99.85      1  \n",
              "245347  0.766853 -0.141401 -0.077278 -0.297595 -0.221816    2.47      1  \n",
              "\n",
              "[5 rows x 31 columns]"
            ],
            "text/html": [
              "\n",
              "  <div id=\"df-1ac05bd6-f1b1-42b4-b379-52bd37cef377\" class=\"colab-df-container\">\n",
              "    <div>\n",
              "<style scoped>\n",
              "    .dataframe tbody tr th:only-of-type {\n",
              "        vertical-align: middle;\n",
              "    }\n",
              "\n",
              "    .dataframe tbody tr th {\n",
              "        vertical-align: top;\n",
              "    }\n",
              "\n",
              "    .dataframe thead th {\n",
              "        text-align: right;\n",
              "    }\n",
              "</style>\n",
              "<table border=\"1\" class=\"dataframe\">\n",
              "  <thead>\n",
              "    <tr style=\"text-align: right;\">\n",
              "      <th></th>\n",
              "      <th>Time</th>\n",
              "      <th>V1</th>\n",
              "      <th>V2</th>\n",
              "      <th>V3</th>\n",
              "      <th>V4</th>\n",
              "      <th>V5</th>\n",
              "      <th>V6</th>\n",
              "      <th>V7</th>\n",
              "      <th>V8</th>\n",
              "      <th>V9</th>\n",
              "      <th>...</th>\n",
              "      <th>V21</th>\n",
              "      <th>V22</th>\n",
              "      <th>V23</th>\n",
              "      <th>V24</th>\n",
              "      <th>V25</th>\n",
              "      <th>V26</th>\n",
              "      <th>V27</th>\n",
              "      <th>V28</th>\n",
              "      <th>Amount</th>\n",
              "      <th>Class</th>\n",
              "    </tr>\n",
              "  </thead>\n",
              "  <tbody>\n",
              "    <tr>\n",
              "      <th>258837</th>\n",
              "      <td>158848.0</td>\n",
              "      <td>1.849293</td>\n",
              "      <td>0.080386</td>\n",
              "      <td>-1.831062</td>\n",
              "      <td>1.216023</td>\n",
              "      <td>0.551383</td>\n",
              "      <td>-1.104685</td>\n",
              "      <td>0.846525</td>\n",
              "      <td>-0.412037</td>\n",
              "      <td>-0.478343</td>\n",
              "      <td>...</td>\n",
              "      <td>0.239588</td>\n",
              "      <td>0.601600</td>\n",
              "      <td>-0.087535</td>\n",
              "      <td>0.031196</td>\n",
              "      <td>0.397128</td>\n",
              "      <td>-0.514090</td>\n",
              "      <td>-0.046427</td>\n",
              "      <td>-0.057773</td>\n",
              "      <td>89.40</td>\n",
              "      <td>0</td>\n",
              "    </tr>\n",
              "    <tr>\n",
              "      <th>6641</th>\n",
              "      <td>8169.0</td>\n",
              "      <td>0.857321</td>\n",
              "      <td>4.093912</td>\n",
              "      <td>-7.423894</td>\n",
              "      <td>7.380245</td>\n",
              "      <td>0.973366</td>\n",
              "      <td>-2.730762</td>\n",
              "      <td>-1.496497</td>\n",
              "      <td>0.543015</td>\n",
              "      <td>-2.351190</td>\n",
              "      <td>...</td>\n",
              "      <td>0.375026</td>\n",
              "      <td>0.145400</td>\n",
              "      <td>0.240603</td>\n",
              "      <td>-0.234649</td>\n",
              "      <td>-1.004881</td>\n",
              "      <td>0.435832</td>\n",
              "      <td>0.618324</td>\n",
              "      <td>0.148469</td>\n",
              "      <td>1.00</td>\n",
              "      <td>1</td>\n",
              "    </tr>\n",
              "    <tr>\n",
              "      <th>208651</th>\n",
              "      <td>137211.0</td>\n",
              "      <td>0.630579</td>\n",
              "      <td>1.183631</td>\n",
              "      <td>-5.066283</td>\n",
              "      <td>2.179903</td>\n",
              "      <td>-0.703376</td>\n",
              "      <td>-0.103614</td>\n",
              "      <td>-3.490350</td>\n",
              "      <td>1.094734</td>\n",
              "      <td>-0.717418</td>\n",
              "      <td>...</td>\n",
              "      <td>0.621622</td>\n",
              "      <td>0.043807</td>\n",
              "      <td>0.102711</td>\n",
              "      <td>-0.601505</td>\n",
              "      <td>0.127371</td>\n",
              "      <td>-0.163009</td>\n",
              "      <td>0.853792</td>\n",
              "      <td>0.356503</td>\n",
              "      <td>39.45</td>\n",
              "      <td>1</td>\n",
              "    </tr>\n",
              "    <tr>\n",
              "      <th>120505</th>\n",
              "      <td>75851.0</td>\n",
              "      <td>-4.793667</td>\n",
              "      <td>3.418911</td>\n",
              "      <td>-5.074445</td>\n",
              "      <td>4.035987</td>\n",
              "      <td>-3.527875</td>\n",
              "      <td>-1.923242</td>\n",
              "      <td>-5.065981</td>\n",
              "      <td>1.996885</td>\n",
              "      <td>-3.097379</td>\n",
              "      <td>...</td>\n",
              "      <td>1.168618</td>\n",
              "      <td>0.289531</td>\n",
              "      <td>-0.371888</td>\n",
              "      <td>0.144761</td>\n",
              "      <td>0.084735</td>\n",
              "      <td>-0.197431</td>\n",
              "      <td>0.328672</td>\n",
              "      <td>0.835395</td>\n",
              "      <td>99.85</td>\n",
              "      <td>1</td>\n",
              "    </tr>\n",
              "    <tr>\n",
              "      <th>245347</th>\n",
              "      <td>152710.0</td>\n",
              "      <td>0.051075</td>\n",
              "      <td>1.310427</td>\n",
              "      <td>0.733222</td>\n",
              "      <td>2.620282</td>\n",
              "      <td>1.402358</td>\n",
              "      <td>0.528489</td>\n",
              "      <td>1.086014</td>\n",
              "      <td>-0.146423</td>\n",
              "      <td>-1.724333</td>\n",
              "      <td>...</td>\n",
              "      <td>0.229936</td>\n",
              "      <td>0.766927</td>\n",
              "      <td>-0.189624</td>\n",
              "      <td>0.766853</td>\n",
              "      <td>-0.141401</td>\n",
              "      <td>-0.077278</td>\n",
              "      <td>-0.297595</td>\n",
              "      <td>-0.221816</td>\n",
              "      <td>2.47</td>\n",
              "      <td>1</td>\n",
              "    </tr>\n",
              "  </tbody>\n",
              "</table>\n",
              "<p>5 rows × 31 columns</p>\n",
              "</div>\n",
              "    <div class=\"colab-df-buttons\">\n",
              "\n",
              "  <div class=\"colab-df-container\">\n",
              "    <button class=\"colab-df-convert\" onclick=\"convertToInteractive('df-1ac05bd6-f1b1-42b4-b379-52bd37cef377')\"\n",
              "            title=\"Convert this dataframe to an interactive table.\"\n",
              "            style=\"display:none;\">\n",
              "\n",
              "  <svg xmlns=\"http://www.w3.org/2000/svg\" height=\"24px\" viewBox=\"0 -960 960 960\">\n",
              "    <path d=\"M120-120v-720h720v720H120Zm60-500h600v-160H180v160Zm220 220h160v-160H400v160Zm0 220h160v-160H400v160ZM180-400h160v-160H180v160Zm440 0h160v-160H620v160ZM180-180h160v-160H180v160Zm440 0h160v-160H620v160Z\"/>\n",
              "  </svg>\n",
              "    </button>\n",
              "\n",
              "  <style>\n",
              "    .colab-df-container {\n",
              "      display:flex;\n",
              "      gap: 12px;\n",
              "    }\n",
              "\n",
              "    .colab-df-convert {\n",
              "      background-color: #E8F0FE;\n",
              "      border: none;\n",
              "      border-radius: 50%;\n",
              "      cursor: pointer;\n",
              "      display: none;\n",
              "      fill: #1967D2;\n",
              "      height: 32px;\n",
              "      padding: 0 0 0 0;\n",
              "      width: 32px;\n",
              "    }\n",
              "\n",
              "    .colab-df-convert:hover {\n",
              "      background-color: #E2EBFA;\n",
              "      box-shadow: 0px 1px 2px rgba(60, 64, 67, 0.3), 0px 1px 3px 1px rgba(60, 64, 67, 0.15);\n",
              "      fill: #174EA6;\n",
              "    }\n",
              "\n",
              "    .colab-df-buttons div {\n",
              "      margin-bottom: 4px;\n",
              "    }\n",
              "\n",
              "    [theme=dark] .colab-df-convert {\n",
              "      background-color: #3B4455;\n",
              "      fill: #D2E3FC;\n",
              "    }\n",
              "\n",
              "    [theme=dark] .colab-df-convert:hover {\n",
              "      background-color: #434B5C;\n",
              "      box-shadow: 0px 1px 3px 1px rgba(0, 0, 0, 0.15);\n",
              "      filter: drop-shadow(0px 1px 2px rgba(0, 0, 0, 0.3));\n",
              "      fill: #FFFFFF;\n",
              "    }\n",
              "  </style>\n",
              "\n",
              "    <script>\n",
              "      const buttonEl =\n",
              "        document.querySelector('#df-1ac05bd6-f1b1-42b4-b379-52bd37cef377 button.colab-df-convert');\n",
              "      buttonEl.style.display =\n",
              "        google.colab.kernel.accessAllowed ? 'block' : 'none';\n",
              "\n",
              "      async function convertToInteractive(key) {\n",
              "        const element = document.querySelector('#df-1ac05bd6-f1b1-42b4-b379-52bd37cef377');\n",
              "        const dataTable =\n",
              "          await google.colab.kernel.invokeFunction('convertToInteractive',\n",
              "                                                    [key], {});\n",
              "        if (!dataTable) return;\n",
              "\n",
              "        const docLinkHtml = 'Like what you see? Visit the ' +\n",
              "          '<a target=\"_blank\" href=https://colab.research.google.com/notebooks/data_table.ipynb>data table notebook</a>'\n",
              "          + ' to learn more about interactive tables.';\n",
              "        element.innerHTML = '';\n",
              "        dataTable['output_type'] = 'display_data';\n",
              "        await google.colab.output.renderOutput(dataTable, element);\n",
              "        const docLink = document.createElement('div');\n",
              "        docLink.innerHTML = docLinkHtml;\n",
              "        element.appendChild(docLink);\n",
              "      }\n",
              "    </script>\n",
              "  </div>\n",
              "\n",
              "\n",
              "<div id=\"df-b0e350b1-9e2d-4b70-8d6a-31d840f2f995\">\n",
              "  <button class=\"colab-df-quickchart\" onclick=\"quickchart('df-b0e350b1-9e2d-4b70-8d6a-31d840f2f995')\"\n",
              "            title=\"Suggest charts.\"\n",
              "            style=\"display:none;\">\n",
              "\n",
              "<svg xmlns=\"http://www.w3.org/2000/svg\" height=\"24px\"viewBox=\"0 0 24 24\"\n",
              "     width=\"24px\">\n",
              "    <g>\n",
              "        <path d=\"M19 3H5c-1.1 0-2 .9-2 2v14c0 1.1.9 2 2 2h14c1.1 0 2-.9 2-2V5c0-1.1-.9-2-2-2zM9 17H7v-7h2v7zm4 0h-2V7h2v10zm4 0h-2v-4h2v4z\"/>\n",
              "    </g>\n",
              "</svg>\n",
              "  </button>\n",
              "\n",
              "<style>\n",
              "  .colab-df-quickchart {\n",
              "      --bg-color: #E8F0FE;\n",
              "      --fill-color: #1967D2;\n",
              "      --hover-bg-color: #E2EBFA;\n",
              "      --hover-fill-color: #174EA6;\n",
              "      --disabled-fill-color: #AAA;\n",
              "      --disabled-bg-color: #DDD;\n",
              "  }\n",
              "\n",
              "  [theme=dark] .colab-df-quickchart {\n",
              "      --bg-color: #3B4455;\n",
              "      --fill-color: #D2E3FC;\n",
              "      --hover-bg-color: #434B5C;\n",
              "      --hover-fill-color: #FFFFFF;\n",
              "      --disabled-bg-color: #3B4455;\n",
              "      --disabled-fill-color: #666;\n",
              "  }\n",
              "\n",
              "  .colab-df-quickchart {\n",
              "    background-color: var(--bg-color);\n",
              "    border: none;\n",
              "    border-radius: 50%;\n",
              "    cursor: pointer;\n",
              "    display: none;\n",
              "    fill: var(--fill-color);\n",
              "    height: 32px;\n",
              "    padding: 0;\n",
              "    width: 32px;\n",
              "  }\n",
              "\n",
              "  .colab-df-quickchart:hover {\n",
              "    background-color: var(--hover-bg-color);\n",
              "    box-shadow: 0 1px 2px rgba(60, 64, 67, 0.3), 0 1px 3px 1px rgba(60, 64, 67, 0.15);\n",
              "    fill: var(--button-hover-fill-color);\n",
              "  }\n",
              "\n",
              "  .colab-df-quickchart-complete:disabled,\n",
              "  .colab-df-quickchart-complete:disabled:hover {\n",
              "    background-color: var(--disabled-bg-color);\n",
              "    fill: var(--disabled-fill-color);\n",
              "    box-shadow: none;\n",
              "  }\n",
              "\n",
              "  .colab-df-spinner {\n",
              "    border: 2px solid var(--fill-color);\n",
              "    border-color: transparent;\n",
              "    border-bottom-color: var(--fill-color);\n",
              "    animation:\n",
              "      spin 1s steps(1) infinite;\n",
              "  }\n",
              "\n",
              "  @keyframes spin {\n",
              "    0% {\n",
              "      border-color: transparent;\n",
              "      border-bottom-color: var(--fill-color);\n",
              "      border-left-color: var(--fill-color);\n",
              "    }\n",
              "    20% {\n",
              "      border-color: transparent;\n",
              "      border-left-color: var(--fill-color);\n",
              "      border-top-color: var(--fill-color);\n",
              "    }\n",
              "    30% {\n",
              "      border-color: transparent;\n",
              "      border-left-color: var(--fill-color);\n",
              "      border-top-color: var(--fill-color);\n",
              "      border-right-color: var(--fill-color);\n",
              "    }\n",
              "    40% {\n",
              "      border-color: transparent;\n",
              "      border-right-color: var(--fill-color);\n",
              "      border-top-color: var(--fill-color);\n",
              "    }\n",
              "    60% {\n",
              "      border-color: transparent;\n",
              "      border-right-color: var(--fill-color);\n",
              "    }\n",
              "    80% {\n",
              "      border-color: transparent;\n",
              "      border-right-color: var(--fill-color);\n",
              "      border-bottom-color: var(--fill-color);\n",
              "    }\n",
              "    90% {\n",
              "      border-color: transparent;\n",
              "      border-bottom-color: var(--fill-color);\n",
              "    }\n",
              "  }\n",
              "</style>\n",
              "\n",
              "  <script>\n",
              "    async function quickchart(key) {\n",
              "      const quickchartButtonEl =\n",
              "        document.querySelector('#' + key + ' button');\n",
              "      quickchartButtonEl.disabled = true;  // To prevent multiple clicks.\n",
              "      quickchartButtonEl.classList.add('colab-df-spinner');\n",
              "      try {\n",
              "        const charts = await google.colab.kernel.invokeFunction(\n",
              "            'suggestCharts', [key], {});\n",
              "      } catch (error) {\n",
              "        console.error('Error during call to suggestCharts:', error);\n",
              "      }\n",
              "      quickchartButtonEl.classList.remove('colab-df-spinner');\n",
              "      quickchartButtonEl.classList.add('colab-df-quickchart-complete');\n",
              "    }\n",
              "    (() => {\n",
              "      let quickchartButtonEl =\n",
              "        document.querySelector('#df-b0e350b1-9e2d-4b70-8d6a-31d840f2f995 button');\n",
              "      quickchartButtonEl.style.display =\n",
              "        google.colab.kernel.accessAllowed ? 'block' : 'none';\n",
              "    })();\n",
              "  </script>\n",
              "</div>\n",
              "    </div>\n",
              "  </div>\n"
            ]
          },
          "metadata": {},
          "execution_count": 40
        }
      ],
      "source": [
        "# first 5 rows of the dataset\n",
        "balanced_train_data.head()"
      ]
    },
    {
      "cell_type": "code",
      "execution_count": null,
      "metadata": {
        "colab": {
          "base_uri": "https://localhost:8080/",
          "height": 255
        },
        "id": "iWCP6YJjThIM",
        "outputId": "ab34239b-03ea-40d5-c51a-6074debd268d"
      },
      "outputs": [
        {
          "output_type": "execute_result",
          "data": {
            "text/plain": [
              "           Time        V1        V2        V3        V4        V5        V6  \\\n",
              "142405  84694.0 -4.868108  1.264420 -5.167885  3.193648 -3.045621 -2.096166   \n",
              "53794   46149.0 -1.346509  2.132431 -1.854355  2.116998 -1.070378 -1.092671   \n",
              "135850  81424.0  1.161170  0.392417  0.474106  1.239054 -0.222905 -0.736860   \n",
              "77288   56979.0  1.256235  0.347563  0.301851  0.693207 -0.376918 -1.072151   \n",
              "19441   30289.0  1.262842  1.187528 -1.923626  1.342786  1.246010 -1.047270   \n",
              "\n",
              "              V7        V8        V9  ...       V21       V22       V23  \\\n",
              "142405 -6.445610  2.422536 -3.214055  ...  1.269205  0.057657  0.629307   \n",
              "53794  -2.230986  1.036425 -1.895516  ...  0.609508  0.202874 -0.060791   \n",
              "135850  0.236327 -0.081352 -0.147499  ... -0.425370 -1.283884  0.301258   \n",
              "77288   0.081165 -0.198737  0.045670  ... -0.288815 -0.837949  0.129536   \n",
              "19441   0.616627 -0.154017 -0.562666  ... -0.219795 -0.592129 -0.316088   \n",
              "\n",
              "             V24       V25       V26       V27       V28  Amount  Class  \n",
              "142405 -0.168432  0.443744  0.276539  1.441274 -0.127944   12.31      1  \n",
              "53794  -0.186733 -0.017401 -0.283751  0.395451  0.233139    1.00      1  \n",
              "135850  0.299021  0.112485 -0.827621  0.023370  0.028821    7.99      0  \n",
              "77288   0.337504  0.213873  0.095010 -0.023671  0.030620    1.98      0  \n",
              "19441  -0.837673  0.918383 -0.258449  0.031320  0.077145    0.89      0  \n",
              "\n",
              "[5 rows x 31 columns]"
            ],
            "text/html": [
              "\n",
              "  <div id=\"df-d4ed5578-6853-46fb-9d01-33568a9c7f5e\" class=\"colab-df-container\">\n",
              "    <div>\n",
              "<style scoped>\n",
              "    .dataframe tbody tr th:only-of-type {\n",
              "        vertical-align: middle;\n",
              "    }\n",
              "\n",
              "    .dataframe tbody tr th {\n",
              "        vertical-align: top;\n",
              "    }\n",
              "\n",
              "    .dataframe thead th {\n",
              "        text-align: right;\n",
              "    }\n",
              "</style>\n",
              "<table border=\"1\" class=\"dataframe\">\n",
              "  <thead>\n",
              "    <tr style=\"text-align: right;\">\n",
              "      <th></th>\n",
              "      <th>Time</th>\n",
              "      <th>V1</th>\n",
              "      <th>V2</th>\n",
              "      <th>V3</th>\n",
              "      <th>V4</th>\n",
              "      <th>V5</th>\n",
              "      <th>V6</th>\n",
              "      <th>V7</th>\n",
              "      <th>V8</th>\n",
              "      <th>V9</th>\n",
              "      <th>...</th>\n",
              "      <th>V21</th>\n",
              "      <th>V22</th>\n",
              "      <th>V23</th>\n",
              "      <th>V24</th>\n",
              "      <th>V25</th>\n",
              "      <th>V26</th>\n",
              "      <th>V27</th>\n",
              "      <th>V28</th>\n",
              "      <th>Amount</th>\n",
              "      <th>Class</th>\n",
              "    </tr>\n",
              "  </thead>\n",
              "  <tbody>\n",
              "    <tr>\n",
              "      <th>142405</th>\n",
              "      <td>84694.0</td>\n",
              "      <td>-4.868108</td>\n",
              "      <td>1.264420</td>\n",
              "      <td>-5.167885</td>\n",
              "      <td>3.193648</td>\n",
              "      <td>-3.045621</td>\n",
              "      <td>-2.096166</td>\n",
              "      <td>-6.445610</td>\n",
              "      <td>2.422536</td>\n",
              "      <td>-3.214055</td>\n",
              "      <td>...</td>\n",
              "      <td>1.269205</td>\n",
              "      <td>0.057657</td>\n",
              "      <td>0.629307</td>\n",
              "      <td>-0.168432</td>\n",
              "      <td>0.443744</td>\n",
              "      <td>0.276539</td>\n",
              "      <td>1.441274</td>\n",
              "      <td>-0.127944</td>\n",
              "      <td>12.31</td>\n",
              "      <td>1</td>\n",
              "    </tr>\n",
              "    <tr>\n",
              "      <th>53794</th>\n",
              "      <td>46149.0</td>\n",
              "      <td>-1.346509</td>\n",
              "      <td>2.132431</td>\n",
              "      <td>-1.854355</td>\n",
              "      <td>2.116998</td>\n",
              "      <td>-1.070378</td>\n",
              "      <td>-1.092671</td>\n",
              "      <td>-2.230986</td>\n",
              "      <td>1.036425</td>\n",
              "      <td>-1.895516</td>\n",
              "      <td>...</td>\n",
              "      <td>0.609508</td>\n",
              "      <td>0.202874</td>\n",
              "      <td>-0.060791</td>\n",
              "      <td>-0.186733</td>\n",
              "      <td>-0.017401</td>\n",
              "      <td>-0.283751</td>\n",
              "      <td>0.395451</td>\n",
              "      <td>0.233139</td>\n",
              "      <td>1.00</td>\n",
              "      <td>1</td>\n",
              "    </tr>\n",
              "    <tr>\n",
              "      <th>135850</th>\n",
              "      <td>81424.0</td>\n",
              "      <td>1.161170</td>\n",
              "      <td>0.392417</td>\n",
              "      <td>0.474106</td>\n",
              "      <td>1.239054</td>\n",
              "      <td>-0.222905</td>\n",
              "      <td>-0.736860</td>\n",
              "      <td>0.236327</td>\n",
              "      <td>-0.081352</td>\n",
              "      <td>-0.147499</td>\n",
              "      <td>...</td>\n",
              "      <td>-0.425370</td>\n",
              "      <td>-1.283884</td>\n",
              "      <td>0.301258</td>\n",
              "      <td>0.299021</td>\n",
              "      <td>0.112485</td>\n",
              "      <td>-0.827621</td>\n",
              "      <td>0.023370</td>\n",
              "      <td>0.028821</td>\n",
              "      <td>7.99</td>\n",
              "      <td>0</td>\n",
              "    </tr>\n",
              "    <tr>\n",
              "      <th>77288</th>\n",
              "      <td>56979.0</td>\n",
              "      <td>1.256235</td>\n",
              "      <td>0.347563</td>\n",
              "      <td>0.301851</td>\n",
              "      <td>0.693207</td>\n",
              "      <td>-0.376918</td>\n",
              "      <td>-1.072151</td>\n",
              "      <td>0.081165</td>\n",
              "      <td>-0.198737</td>\n",
              "      <td>0.045670</td>\n",
              "      <td>...</td>\n",
              "      <td>-0.288815</td>\n",
              "      <td>-0.837949</td>\n",
              "      <td>0.129536</td>\n",
              "      <td>0.337504</td>\n",
              "      <td>0.213873</td>\n",
              "      <td>0.095010</td>\n",
              "      <td>-0.023671</td>\n",
              "      <td>0.030620</td>\n",
              "      <td>1.98</td>\n",
              "      <td>0</td>\n",
              "    </tr>\n",
              "    <tr>\n",
              "      <th>19441</th>\n",
              "      <td>30289.0</td>\n",
              "      <td>1.262842</td>\n",
              "      <td>1.187528</td>\n",
              "      <td>-1.923626</td>\n",
              "      <td>1.342786</td>\n",
              "      <td>1.246010</td>\n",
              "      <td>-1.047270</td>\n",
              "      <td>0.616627</td>\n",
              "      <td>-0.154017</td>\n",
              "      <td>-0.562666</td>\n",
              "      <td>...</td>\n",
              "      <td>-0.219795</td>\n",
              "      <td>-0.592129</td>\n",
              "      <td>-0.316088</td>\n",
              "      <td>-0.837673</td>\n",
              "      <td>0.918383</td>\n",
              "      <td>-0.258449</td>\n",
              "      <td>0.031320</td>\n",
              "      <td>0.077145</td>\n",
              "      <td>0.89</td>\n",
              "      <td>0</td>\n",
              "    </tr>\n",
              "  </tbody>\n",
              "</table>\n",
              "<p>5 rows × 31 columns</p>\n",
              "</div>\n",
              "    <div class=\"colab-df-buttons\">\n",
              "\n",
              "  <div class=\"colab-df-container\">\n",
              "    <button class=\"colab-df-convert\" onclick=\"convertToInteractive('df-d4ed5578-6853-46fb-9d01-33568a9c7f5e')\"\n",
              "            title=\"Convert this dataframe to an interactive table.\"\n",
              "            style=\"display:none;\">\n",
              "\n",
              "  <svg xmlns=\"http://www.w3.org/2000/svg\" height=\"24px\" viewBox=\"0 -960 960 960\">\n",
              "    <path d=\"M120-120v-720h720v720H120Zm60-500h600v-160H180v160Zm220 220h160v-160H400v160Zm0 220h160v-160H400v160ZM180-400h160v-160H180v160Zm440 0h160v-160H620v160ZM180-180h160v-160H180v160Zm440 0h160v-160H620v160Z\"/>\n",
              "  </svg>\n",
              "    </button>\n",
              "\n",
              "  <style>\n",
              "    .colab-df-container {\n",
              "      display:flex;\n",
              "      gap: 12px;\n",
              "    }\n",
              "\n",
              "    .colab-df-convert {\n",
              "      background-color: #E8F0FE;\n",
              "      border: none;\n",
              "      border-radius: 50%;\n",
              "      cursor: pointer;\n",
              "      display: none;\n",
              "      fill: #1967D2;\n",
              "      height: 32px;\n",
              "      padding: 0 0 0 0;\n",
              "      width: 32px;\n",
              "    }\n",
              "\n",
              "    .colab-df-convert:hover {\n",
              "      background-color: #E2EBFA;\n",
              "      box-shadow: 0px 1px 2px rgba(60, 64, 67, 0.3), 0px 1px 3px 1px rgba(60, 64, 67, 0.15);\n",
              "      fill: #174EA6;\n",
              "    }\n",
              "\n",
              "    .colab-df-buttons div {\n",
              "      margin-bottom: 4px;\n",
              "    }\n",
              "\n",
              "    [theme=dark] .colab-df-convert {\n",
              "      background-color: #3B4455;\n",
              "      fill: #D2E3FC;\n",
              "    }\n",
              "\n",
              "    [theme=dark] .colab-df-convert:hover {\n",
              "      background-color: #434B5C;\n",
              "      box-shadow: 0px 1px 3px 1px rgba(0, 0, 0, 0.15);\n",
              "      filter: drop-shadow(0px 1px 2px rgba(0, 0, 0, 0.3));\n",
              "      fill: #FFFFFF;\n",
              "    }\n",
              "  </style>\n",
              "\n",
              "    <script>\n",
              "      const buttonEl =\n",
              "        document.querySelector('#df-d4ed5578-6853-46fb-9d01-33568a9c7f5e button.colab-df-convert');\n",
              "      buttonEl.style.display =\n",
              "        google.colab.kernel.accessAllowed ? 'block' : 'none';\n",
              "\n",
              "      async function convertToInteractive(key) {\n",
              "        const element = document.querySelector('#df-d4ed5578-6853-46fb-9d01-33568a9c7f5e');\n",
              "        const dataTable =\n",
              "          await google.colab.kernel.invokeFunction('convertToInteractive',\n",
              "                                                    [key], {});\n",
              "        if (!dataTable) return;\n",
              "\n",
              "        const docLinkHtml = 'Like what you see? Visit the ' +\n",
              "          '<a target=\"_blank\" href=https://colab.research.google.com/notebooks/data_table.ipynb>data table notebook</a>'\n",
              "          + ' to learn more about interactive tables.';\n",
              "        element.innerHTML = '';\n",
              "        dataTable['output_type'] = 'display_data';\n",
              "        await google.colab.output.renderOutput(dataTable, element);\n",
              "        const docLink = document.createElement('div');\n",
              "        docLink.innerHTML = docLinkHtml;\n",
              "        element.appendChild(docLink);\n",
              "      }\n",
              "    </script>\n",
              "  </div>\n",
              "\n",
              "\n",
              "<div id=\"df-b5c2e557-9109-4d29-82ba-8d47b4e1fdec\">\n",
              "  <button class=\"colab-df-quickchart\" onclick=\"quickchart('df-b5c2e557-9109-4d29-82ba-8d47b4e1fdec')\"\n",
              "            title=\"Suggest charts.\"\n",
              "            style=\"display:none;\">\n",
              "\n",
              "<svg xmlns=\"http://www.w3.org/2000/svg\" height=\"24px\"viewBox=\"0 0 24 24\"\n",
              "     width=\"24px\">\n",
              "    <g>\n",
              "        <path d=\"M19 3H5c-1.1 0-2 .9-2 2v14c0 1.1.9 2 2 2h14c1.1 0 2-.9 2-2V5c0-1.1-.9-2-2-2zM9 17H7v-7h2v7zm4 0h-2V7h2v10zm4 0h-2v-4h2v4z\"/>\n",
              "    </g>\n",
              "</svg>\n",
              "  </button>\n",
              "\n",
              "<style>\n",
              "  .colab-df-quickchart {\n",
              "      --bg-color: #E8F0FE;\n",
              "      --fill-color: #1967D2;\n",
              "      --hover-bg-color: #E2EBFA;\n",
              "      --hover-fill-color: #174EA6;\n",
              "      --disabled-fill-color: #AAA;\n",
              "      --disabled-bg-color: #DDD;\n",
              "  }\n",
              "\n",
              "  [theme=dark] .colab-df-quickchart {\n",
              "      --bg-color: #3B4455;\n",
              "      --fill-color: #D2E3FC;\n",
              "      --hover-bg-color: #434B5C;\n",
              "      --hover-fill-color: #FFFFFF;\n",
              "      --disabled-bg-color: #3B4455;\n",
              "      --disabled-fill-color: #666;\n",
              "  }\n",
              "\n",
              "  .colab-df-quickchart {\n",
              "    background-color: var(--bg-color);\n",
              "    border: none;\n",
              "    border-radius: 50%;\n",
              "    cursor: pointer;\n",
              "    display: none;\n",
              "    fill: var(--fill-color);\n",
              "    height: 32px;\n",
              "    padding: 0;\n",
              "    width: 32px;\n",
              "  }\n",
              "\n",
              "  .colab-df-quickchart:hover {\n",
              "    background-color: var(--hover-bg-color);\n",
              "    box-shadow: 0 1px 2px rgba(60, 64, 67, 0.3), 0 1px 3px 1px rgba(60, 64, 67, 0.15);\n",
              "    fill: var(--button-hover-fill-color);\n",
              "  }\n",
              "\n",
              "  .colab-df-quickchart-complete:disabled,\n",
              "  .colab-df-quickchart-complete:disabled:hover {\n",
              "    background-color: var(--disabled-bg-color);\n",
              "    fill: var(--disabled-fill-color);\n",
              "    box-shadow: none;\n",
              "  }\n",
              "\n",
              "  .colab-df-spinner {\n",
              "    border: 2px solid var(--fill-color);\n",
              "    border-color: transparent;\n",
              "    border-bottom-color: var(--fill-color);\n",
              "    animation:\n",
              "      spin 1s steps(1) infinite;\n",
              "  }\n",
              "\n",
              "  @keyframes spin {\n",
              "    0% {\n",
              "      border-color: transparent;\n",
              "      border-bottom-color: var(--fill-color);\n",
              "      border-left-color: var(--fill-color);\n",
              "    }\n",
              "    20% {\n",
              "      border-color: transparent;\n",
              "      border-left-color: var(--fill-color);\n",
              "      border-top-color: var(--fill-color);\n",
              "    }\n",
              "    30% {\n",
              "      border-color: transparent;\n",
              "      border-left-color: var(--fill-color);\n",
              "      border-top-color: var(--fill-color);\n",
              "      border-right-color: var(--fill-color);\n",
              "    }\n",
              "    40% {\n",
              "      border-color: transparent;\n",
              "      border-right-color: var(--fill-color);\n",
              "      border-top-color: var(--fill-color);\n",
              "    }\n",
              "    60% {\n",
              "      border-color: transparent;\n",
              "      border-right-color: var(--fill-color);\n",
              "    }\n",
              "    80% {\n",
              "      border-color: transparent;\n",
              "      border-right-color: var(--fill-color);\n",
              "      border-bottom-color: var(--fill-color);\n",
              "    }\n",
              "    90% {\n",
              "      border-color: transparent;\n",
              "      border-bottom-color: var(--fill-color);\n",
              "    }\n",
              "  }\n",
              "</style>\n",
              "\n",
              "  <script>\n",
              "    async function quickchart(key) {\n",
              "      const quickchartButtonEl =\n",
              "        document.querySelector('#' + key + ' button');\n",
              "      quickchartButtonEl.disabled = true;  // To prevent multiple clicks.\n",
              "      quickchartButtonEl.classList.add('colab-df-spinner');\n",
              "      try {\n",
              "        const charts = await google.colab.kernel.invokeFunction(\n",
              "            'suggestCharts', [key], {});\n",
              "      } catch (error) {\n",
              "        console.error('Error during call to suggestCharts:', error);\n",
              "      }\n",
              "      quickchartButtonEl.classList.remove('colab-df-spinner');\n",
              "      quickchartButtonEl.classList.add('colab-df-quickchart-complete');\n",
              "    }\n",
              "    (() => {\n",
              "      let quickchartButtonEl =\n",
              "        document.querySelector('#df-b5c2e557-9109-4d29-82ba-8d47b4e1fdec button');\n",
              "      quickchartButtonEl.style.display =\n",
              "        google.colab.kernel.accessAllowed ? 'block' : 'none';\n",
              "    })();\n",
              "  </script>\n",
              "</div>\n",
              "    </div>\n",
              "  </div>\n"
            ]
          },
          "metadata": {},
          "execution_count": 41
        }
      ],
      "source": [
        "#last 5 rows of the dataset\n",
        "balanced_train_data.tail()"
      ]
    },
    {
      "cell_type": "code",
      "execution_count": null,
      "metadata": {
        "colab": {
          "base_uri": "https://localhost:8080/"
        },
        "id": "KcCZquvEUD3A",
        "outputId": "44e4179a-53c8-4dd8-ecce-9dd1389578ae"
      },
      "outputs": [
        {
          "output_type": "stream",
          "name": "stdout",
          "text": [
            "<class 'pandas.core.frame.DataFrame'>\n",
            "Int64Index: 454902 entries, 258837 to 19441\n",
            "Data columns (total 31 columns):\n",
            " #   Column  Non-Null Count   Dtype  \n",
            "---  ------  --------------   -----  \n",
            " 0   Time    454902 non-null  float64\n",
            " 1   V1      454902 non-null  float64\n",
            " 2   V2      454902 non-null  float64\n",
            " 3   V3      454902 non-null  float64\n",
            " 4   V4      454902 non-null  float64\n",
            " 5   V5      454902 non-null  float64\n",
            " 6   V6      454902 non-null  float64\n",
            " 7   V7      454902 non-null  float64\n",
            " 8   V8      454902 non-null  float64\n",
            " 9   V9      454902 non-null  float64\n",
            " 10  V10     454902 non-null  float64\n",
            " 11  V11     454902 non-null  float64\n",
            " 12  V12     454902 non-null  float64\n",
            " 13  V13     454902 non-null  float64\n",
            " 14  V14     454902 non-null  float64\n",
            " 15  V15     454902 non-null  float64\n",
            " 16  V16     454902 non-null  float64\n",
            " 17  V17     454902 non-null  float64\n",
            " 18  V18     454902 non-null  float64\n",
            " 19  V19     454902 non-null  float64\n",
            " 20  V20     454902 non-null  float64\n",
            " 21  V21     454902 non-null  float64\n",
            " 22  V22     454902 non-null  float64\n",
            " 23  V23     454902 non-null  float64\n",
            " 24  V24     454902 non-null  float64\n",
            " 25  V25     454902 non-null  float64\n",
            " 26  V26     454902 non-null  float64\n",
            " 27  V27     454902 non-null  float64\n",
            " 28  V28     454902 non-null  float64\n",
            " 29  Amount  454902 non-null  float64\n",
            " 30  Class   454902 non-null  int64  \n",
            "dtypes: float64(30), int64(1)\n",
            "memory usage: 111.1 MB\n"
          ]
        }
      ],
      "source": [
        "# dataset informations\n",
        "balanced_train_data.info()"
      ]
    },
    {
      "cell_type": "code",
      "execution_count": null,
      "metadata": {
        "colab": {
          "base_uri": "https://localhost:8080/"
        },
        "id": "XxwasmfKUQiA",
        "outputId": "21bb40b8-c3b1-45d7-f62f-3ae949af04ce"
      },
      "outputs": [
        {
          "output_type": "execute_result",
          "data": {
            "text/plain": [
              "Time      0\n",
              "V1        0\n",
              "V2        0\n",
              "V3        0\n",
              "V4        0\n",
              "V5        0\n",
              "V6        0\n",
              "V7        0\n",
              "V8        0\n",
              "V9        0\n",
              "V10       0\n",
              "V11       0\n",
              "V12       0\n",
              "V13       0\n",
              "V14       0\n",
              "V15       0\n",
              "V16       0\n",
              "V17       0\n",
              "V18       0\n",
              "V19       0\n",
              "V20       0\n",
              "V21       0\n",
              "V22       0\n",
              "V23       0\n",
              "V24       0\n",
              "V25       0\n",
              "V26       0\n",
              "V27       0\n",
              "V28       0\n",
              "Amount    0\n",
              "Class     0\n",
              "dtype: int64"
            ]
          },
          "metadata": {},
          "execution_count": 43
        }
      ],
      "source": [
        "# checking the number of missing values in each column\n",
        "balanced_train_data.isnull().sum()"
      ]
    },
    {
      "cell_type": "code",
      "execution_count": null,
      "metadata": {
        "colab": {
          "base_uri": "https://localhost:8080/",
          "height": 290
        },
        "id": "NmQ-mQNMtkhO",
        "outputId": "4d7dedd8-c5b4-4d51-ee36-60526be0da6d"
      },
      "outputs": [
        {
          "output_type": "display_data",
          "data": {
            "text/plain": [
              "<Figure size 300x300 with 1 Axes>"
            ],
            "image/png": "[encoded data removed]"
          },
          "metadata": {}
        }
      ],
      "source": [
        "labels = balanced_train_data['Class'].value_counts().index\n",
        "sizes = balanced_train_data['Class'].value_counts().values\n",
        "\n",
        "plt.figure(figsize=(3,3))\n",
        "plt.pie(sizes, labels=labels, autopct='%1.1f%%', startangle=140)\n",
        "plt.axis('equal')\n",
        "plt.title('Class Distribution')\n",
        "plt.show()"
      ]
    },
    {
      "cell_type": "code",
      "execution_count": null,
      "metadata": {
        "colab": {
          "base_uri": "https://localhost:8080/"
        },
        "id": "EIpoKfp5Ugri",
        "outputId": "ef69b2dd-25ca-4e64-98fc-8030c20ea224"
      },
      "outputs": [
        {
          "output_type": "execute_result",
          "data": {
            "text/plain": [
              "0    227451\n",
              "1    227451\n",
              "Name: Class, dtype: int64"
            ]
          },
          "metadata": {},
          "execution_count": 45
        }
      ],
      "source": [
        "# distribution of legit transactions & fraudulent transactions\n",
        "balanced_train_data['Class'].value_counts()"
      ]
    },
    {
      "cell_type": "markdown",
      "metadata": {
        "id": "flz_InK7VGri"
      },
      "source": [
        "This Dataset is highly unblanced"
      ]
    },
    {
      "cell_type": "markdown",
      "metadata": {
        "id": "4OlMhkHzVKMv"
      },
      "source": [
        "0 --> Normal Transaction\n",
        "\n",
        "1 --> fraudulent transaction"
      ]
    },
    {
      "cell_type": "code",
      "execution_count": null,
      "metadata": {
        "colab": {
          "base_uri": "https://localhost:8080/"
        },
        "id": "QNn77bdbU2Lf",
        "outputId": "9dffa744-2471-42f7-8795-26833cebea48"
      },
      "outputs": [
        {
          "output_type": "stream",
          "name": "stderr",
          "text": [
            "<ipython-input-46-db10f4987057>:2: UserWarning: Boolean Series key will be reindexed to match DataFrame index.\n",
            "  legit = balanced_train_data[credit_card_data.Class == 0]\n",
            "<ipython-input-46-db10f4987057>:3: UserWarning: Boolean Series key will be reindexed to match DataFrame index.\n",
            "  fraud = balanced_train_data[credit_card_data.Class == 1]\n"
          ]
        }
      ],
      "source": [
        "# separating the data for analysis\n",
        "legit = balanced_train_data[credit_card_data.Class == 0]\n",
        "fraud = balanced_train_data[credit_card_data.Class == 1]"
      ]
    },
    {
      "cell_type": "code",
      "execution_count": null,
      "metadata": {
        "colab": {
          "base_uri": "https://localhost:8080/"
        },
        "id": "zsrMgOdoVnrV",
        "outputId": "75e59e48-ceb0-480e-b45f-0a1aa4092e03"
      },
      "outputs": [
        {
          "output_type": "stream",
          "name": "stdout",
          "text": [
            "(227451, 31)\n",
            "(227451, 31)\n"
          ]
        }
      ],
      "source": [
        "print(legit.shape)\n",
        "print(fraud.shape)"
      ]
    },
    {
      "cell_type": "code",
      "execution_count": null,
      "metadata": {
        "colab": {
          "base_uri": "https://localhost:8080/"
        },
        "id": "1s3KGshBVsTb",
        "outputId": "b4c0384b-ab0b-4c6a-d70c-c8bdda9517a5"
      },
      "outputs": [
        {
          "output_type": "execute_result",
          "data": {
            "text/plain": [
              "count    227451.000000\n",
              "mean         88.439595\n",
              "std         254.955057\n",
              "min           0.000000\n",
              "25%           5.660000\n",
              "50%          22.000000\n",
              "75%          77.000000\n",
              "max       25691.160000\n",
              "Name: Amount, dtype: float64"
            ]
          },
          "metadata": {},
          "execution_count": 48
        }
      ],
      "source": [
        "# statistical measures of the data\n",
        "legit.Amount.describe()"
      ]
    },
    {
      "cell_type": "code",
      "execution_count": null,
      "metadata": {
        "colab": {
          "base_uri": "https://localhost:8080/"
        },
        "id": "KkU3Mzr5V7fR",
        "outputId": "98c74560-2ff7-4a52-e5d9-f69943f799c6"
      },
      "outputs": [
        {
          "output_type": "execute_result",
          "data": {
            "text/plain": [
              "count    227451.000000\n",
              "mean        111.458652\n",
              "std         238.147221\n",
              "min           0.000000\n",
              "25%           1.000000\n",
              "50%           9.210000\n",
              "75%         104.030000\n",
              "max        2125.870000\n",
              "Name: Amount, dtype: float64"
            ]
          },
          "metadata": {},
          "execution_count": 49
        }
      ],
      "source": [
        "fraud.Amount.describe()"
      ]
    },
    {
      "cell_type": "code",
      "execution_count": null,
      "metadata": {
        "colab": {
          "base_uri": "https://localhost:8080/",
          "height": 193
        },
        "id": "aFUMMHwYWMvp",
        "outputId": "1a9a1beb-27db-493c-d249-5ef83f79345c"
      },
      "outputs": [
        {
          "output_type": "execute_result",
          "data": {
            "text/plain": [
              "               Time        V1        V2        V3        V4        V5  \\\n",
              "Class                                                                   \n",
              "0      94818.931801  0.008685 -0.006526  0.010984 -0.009361  0.006190   \n",
              "1      79645.327649 -4.497363  3.549104 -6.885408  4.560531 -3.004943   \n",
              "\n",
              "             V6        V7        V8        V9  ...       V20       V21  \\\n",
              "Class                                          ...                       \n",
              "0      0.001874  0.010495 -0.001606  0.005401  ... -0.000178 -0.001062   \n",
              "1     -1.434735 -5.439156  0.699093 -2.565776  ...  0.331975  0.741166   \n",
              "\n",
              "            V22       V23       V24       V25       V26       V27       V28  \\\n",
              "Class                                                                         \n",
              "0     -0.001240  0.000331 -0.000033 -0.001025 -0.000301 -0.000361  0.000110   \n",
              "1      0.013655 -0.085133 -0.106402  0.027617  0.062988  0.185139  0.084762   \n",
              "\n",
              "           Amount  \n",
              "Class              \n",
              "0       88.439595  \n",
              "1      111.458652  \n",
              "\n",
              "[2 rows x 30 columns]"
            ],
            "text/html": [
              "\n",
              "  <div id=\"df-984de1ed-4b6f-4e53-942c-9bb5d65b7b95\" class=\"colab-df-container\">\n",
              "    <div>\n",
              "<style scoped>\n",
              "    .dataframe tbody tr th:only-of-type {\n",
              "        vertical-align: middle;\n",
              "    }\n",
              "\n",
              "    .dataframe tbody tr th {\n",
              "        vertical-align: top;\n",
              "    }\n",
              "\n",
              "    .dataframe thead th {\n",
              "        text-align: right;\n",
              "    }\n",
              "</style>\n",
              "<table border=\"1\" class=\"dataframe\">\n",
              "  <thead>\n",
              "    <tr style=\"text-align: right;\">\n",
              "      <th></th>\n",
              "      <th>Time</th>\n",
              "      <th>V1</th>\n",
              "      <th>V2</th>\n",
              "      <th>V3</th>\n",
              "      <th>V4</th>\n",
              "      <th>V5</th>\n",
              "      <th>V6</th>\n",
              "      <th>V7</th>\n",
              "      <th>V8</th>\n",
              "      <th>V9</th>\n",
              "      <th>...</th>\n",
              "      <th>V20</th>\n",
              "      <th>V21</th>\n",
              "      <th>V22</th>\n",
              "      <th>V23</th>\n",
              "      <th>V24</th>\n",
              "      <th>V25</th>\n",
              "      <th>V26</th>\n",
              "      <th>V27</th>\n",
              "      <th>V28</th>\n",
              "      <th>Amount</th>\n",
              "    </tr>\n",
              "    <tr>\n",
              "      <th>Class</th>\n",
              "      <th></th>\n",
              "      <th></th>\n",
              "      <th></th>\n",
              "      <th></th>\n",
              "      <th></th>\n",
              "      <th></th>\n",
              "      <th></th>\n",
              "      <th></th>\n",
              "      <th></th>\n",
              "      <th></th>\n",
              "      <th></th>\n",
              "      <th></th>\n",
              "      <th></th>\n",
              "      <th></th>\n",
              "      <th></th>\n",
              "      <th></th>\n",
              "      <th></th>\n",
              "      <th></th>\n",
              "      <th></th>\n",
              "      <th></th>\n",
              "      <th></th>\n",
              "    </tr>\n",
              "  </thead>\n",
              "  <tbody>\n",
              "    <tr>\n",
              "      <th>0</th>\n",
              "      <td>94818.931801</td>\n",
              "      <td>0.008685</td>\n",
              "      <td>-0.006526</td>\n",
              "      <td>0.010984</td>\n",
              "      <td>-0.009361</td>\n",
              "      <td>0.006190</td>\n",
              "      <td>0.001874</td>\n",
              "      <td>0.010495</td>\n",
              "      <td>-0.001606</td>\n",
              "      <td>0.005401</td>\n",
              "      <td>...</td>\n",
              "      <td>-0.000178</td>\n",
              "      <td>-0.001062</td>\n",
              "      <td>-0.001240</td>\n",
              "      <td>0.000331</td>\n",
              "      <td>-0.000033</td>\n",
              "      <td>-0.001025</td>\n",
              "      <td>-0.000301</td>\n",
              "      <td>-0.000361</td>\n",
              "      <td>0.000110</td>\n",
              "      <td>88.439595</td>\n",
              "    </tr>\n",
              "    <tr>\n",
              "      <th>1</th>\n",
              "      <td>79645.327649</td>\n",
              "      <td>-4.497363</td>\n",
              "      <td>3.549104</td>\n",
              "      <td>-6.885408</td>\n",
              "      <td>4.560531</td>\n",
              "      <td>-3.004943</td>\n",
              "      <td>-1.434735</td>\n",
              "      <td>-5.439156</td>\n",
              "      <td>0.699093</td>\n",
              "      <td>-2.565776</td>\n",
              "      <td>...</td>\n",
              "      <td>0.331975</td>\n",
              "      <td>0.741166</td>\n",
              "      <td>0.013655</td>\n",
              "      <td>-0.085133</td>\n",
              "      <td>-0.106402</td>\n",
              "      <td>0.027617</td>\n",
              "      <td>0.062988</td>\n",
              "      <td>0.185139</td>\n",
              "      <td>0.084762</td>\n",
              "      <td>111.458652</td>\n",
              "    </tr>\n",
              "  </tbody>\n",
              "</table>\n",
              "<p>2 rows × 30 columns</p>\n",
              "</div>\n",
              "    <div class=\"colab-df-buttons\">\n",
              "\n",
              "  <div class=\"colab-df-container\">\n",
              "    <button class=\"colab-df-convert\" onclick=\"convertToInteractive('df-984de1ed-4b6f-4e53-942c-9bb5d65b7b95')\"\n",
              "            title=\"Convert this dataframe to an interactive table.\"\n",
              "            style=\"display:none;\">\n",
              "\n",
              "  <svg xmlns=\"http://www.w3.org/2000/svg\" height=\"24px\" viewBox=\"0 -960 960 960\">\n",
              "    <path d=\"M120-120v-720h720v720H120Zm60-500h600v-160H180v160Zm220 220h160v-160H400v160Zm0 220h160v-160H400v160ZM180-400h160v-160H180v160Zm440 0h160v-160H620v160ZM180-180h160v-160H180v160Zm440 0h160v-160H620v160Z\"/>\n",
              "  </svg>\n",
              "    </button>\n",
              "\n",
              "  <style>\n",
              "    .colab-df-container {\n",
              "      display:flex;\n",
              "      gap: 12px;\n",
              "    }\n",
              "\n",
              "    .colab-df-convert {\n",
              "      background-color: #E8F0FE;\n",
              "      border: none;\n",
              "      border-radius: 50%;\n",
              "      cursor: pointer;\n",
              "      display: none;\n",
              "      fill: #1967D2;\n",
              "      height: 32px;\n",
              "      padding: 0 0 0 0;\n",
              "      width: 32px;\n",
              "    }\n",
              "\n",
              "    .colab-df-convert:hover {\n",
              "      background-color: #E2EBFA;\n",
              "      box-shadow: 0px 1px 2px rgba(60, 64, 67, 0.3), 0px 1px 3px 1px rgba(60, 64, 67, 0.15);\n",
              "      fill: #174EA6;\n",
              "    }\n",
              "\n",
              "    .colab-df-buttons div {\n",
              "      margin-bottom: 4px;\n",
              "    }\n",
              "\n",
              "    [theme=dark] .colab-df-convert {\n",
              "      background-color: #3B4455;\n",
              "      fill: #D2E3FC;\n",
              "    }\n",
              "\n",
              "    [theme=dark] .colab-df-convert:hover {\n",
              "      background-color: #434B5C;\n",
              "      box-shadow: 0px 1px 3px 1px rgba(0, 0, 0, 0.15);\n",
              "      filter: drop-shadow(0px 1px 2px rgba(0, 0, 0, 0.3));\n",
              "      fill: #FFFFFF;\n",
              "    }\n",
              "  </style>\n",
              "\n",
              "    <script>\n",
              "      const buttonEl =\n",
              "        document.querySelector('#df-984de1ed-4b6f-4e53-942c-9bb5d65b7b95 button.colab-df-convert');\n",
              "      buttonEl.style.display =\n",
              "        google.colab.kernel.accessAllowed ? 'block' : 'none';\n",
              "\n",
              "      async function convertToInteractive(key) {\n",
              "        const element = document.querySelector('#df-984de1ed-4b6f-4e53-942c-9bb5d65b7b95');\n",
              "        const dataTable =\n",
              "          await google.colab.kernel.invokeFunction('convertToInteractive',\n",
              "                                                    [key], {});\n",
              "        if (!dataTable) return;\n",
              "\n",
              "        const docLinkHtml = 'Like what you see? Visit the ' +\n",
              "          '<a target=\"_blank\" href=https://colab.research.google.com/notebooks/data_table.ipynb>data table notebook</a>'\n",
              "          + ' to learn more about interactive tables.';\n",
              "        element.innerHTML = '';\n",
              "        dataTable['output_type'] = 'display_data';\n",
              "        await google.colab.output.renderOutput(dataTable, element);\n",
              "        const docLink = document.createElement('div');\n",
              "        docLink.innerHTML = docLinkHtml;\n",
              "        element.appendChild(docLink);\n",
              "      }\n",
              "    </script>\n",
              "  </div>\n",
              "\n",
              "\n",
              "<div id=\"df-f8d63599-0e49-459d-adc3-5d9de909c6be\">\n",
              "  <button class=\"colab-df-quickchart\" onclick=\"quickchart('df-f8d63599-0e49-459d-adc3-5d9de909c6be')\"\n",
              "            title=\"Suggest charts.\"\n",
              "            style=\"display:none;\">\n",
              "\n",
              "<svg xmlns=\"http://www.w3.org/2000/svg\" height=\"24px\"viewBox=\"0 0 24 24\"\n",
              "     width=\"24px\">\n",
              "    <g>\n",
              "        <path d=\"M19 3H5c-1.1 0-2 .9-2 2v14c0 1.1.9 2 2 2h14c1.1 0 2-.9 2-2V5c0-1.1-.9-2-2-2zM9 17H7v-7h2v7zm4 0h-2V7h2v10zm4 0h-2v-4h2v4z\"/>\n",
              "    </g>\n",
              "</svg>\n",
              "  </button>\n",
              "\n",
              "<style>\n",
              "  .colab-df-quickchart {\n",
              "      --bg-color: #E8F0FE;\n",
              "      --fill-color: #1967D2;\n",
              "      --hover-bg-color: #E2EBFA;\n",
              "      --hover-fill-color: #174EA6;\n",
              "      --disabled-fill-color: #AAA;\n",
              "      --disabled-bg-color: #DDD;\n",
              "  }\n",
              "\n",
              "  [theme=dark] .colab-df-quickchart {\n",
              "      --bg-color: #3B4455;\n",
              "      --fill-color: #D2E3FC;\n",
              "      --hover-bg-color: #434B5C;\n",
              "      --hover-fill-color: #FFFFFF;\n",
              "      --disabled-bg-color: #3B4455;\n",
              "      --disabled-fill-color: #666;\n",
              "  }\n",
              "\n",
              "  .colab-df-quickchart {\n",
              "    background-color: var(--bg-color);\n",
              "    border: none;\n",
              "    border-radius: 50%;\n",
              "    cursor: pointer;\n",
              "    display: none;\n",
              "    fill: var(--fill-color);\n",
              "    height: 32px;\n",
              "    padding: 0;\n",
              "    width: 32px;\n",
              "  }\n",
              "\n",
              "  .colab-df-quickchart:hover {\n",
              "    background-color: var(--hover-bg-color);\n",
              "    box-shadow: 0 1px 2px rgba(60, 64, 67, 0.3), 0 1px 3px 1px rgba(60, 64, 67, 0.15);\n",
              "    fill: var(--button-hover-fill-color);\n",
              "  }\n",
              "\n",
              "  .colab-df-quickchart-complete:disabled,\n",
              "  .colab-df-quickchart-complete:disabled:hover {\n",
              "    background-color: var(--disabled-bg-color);\n",
              "    fill: var(--disabled-fill-color);\n",
              "    box-shadow: none;\n",
              "  }\n",
              "\n",
              "  .colab-df-spinner {\n",
              "    border: 2px solid var(--fill-color);\n",
              "    border-color: transparent;\n",
              "    border-bottom-color: var(--fill-color);\n",
              "    animation:\n",
              "      spin 1s steps(1) infinite;\n",
              "  }\n",
              "\n",
              "  @keyframes spin {\n",
              "    0% {\n",
              "      border-color: transparent;\n",
              "      border-bottom-color: var(--fill-color);\n",
              "      border-left-color: var(--fill-color);\n",
              "    }\n",
              "    20% {\n",
              "      border-color: transparent;\n",
              "      border-left-color: var(--fill-color);\n",
              "      border-top-color: var(--fill-color);\n",
              "    }\n",
              "    30% {\n",
              "      border-color: transparent;\n",
              "      border-left-color: var(--fill-color);\n",
              "      border-top-color: var(--fill-color);\n",
              "      border-right-color: var(--fill-color);\n",
              "    }\n",
              "    40% {\n",
              "      border-color: transparent;\n",
              "      border-right-color: var(--fill-color);\n",
              "      border-top-color: var(--fill-color);\n",
              "    }\n",
              "    60% {\n",
              "      border-color: transparent;\n",
              "      border-right-color: var(--fill-color);\n",
              "    }\n",
              "    80% {\n",
              "      border-color: transparent;\n",
              "      border-right-color: var(--fill-color);\n",
              "      border-bottom-color: var(--fill-color);\n",
              "    }\n",
              "    90% {\n",
              "      border-color: transparent;\n",
              "      border-bottom-color: var(--fill-color);\n",
              "    }\n",
              "  }\n",
              "</style>\n",
              "\n",
              "  <script>\n",
              "    async function quickchart(key) {\n",
              "      const quickchartButtonEl =\n",
              "        document.querySelector('#' + key + ' button');\n",
              "      quickchartButtonEl.disabled = true;  // To prevent multiple clicks.\n",
              "      quickchartButtonEl.classList.add('colab-df-spinner');\n",
              "      try {\n",
              "        const charts = await google.colab.kernel.invokeFunction(\n",
              "            'suggestCharts', [key], {});\n",
              "      } catch (error) {\n",
              "        console.error('Error during call to suggestCharts:', error);\n",
              "      }\n",
              "      quickchartButtonEl.classList.remove('colab-df-spinner');\n",
              "      quickchartButtonEl.classList.add('colab-df-quickchart-complete');\n",
              "    }\n",
              "    (() => {\n",
              "      let quickchartButtonEl =\n",
              "        document.querySelector('#df-f8d63599-0e49-459d-adc3-5d9de909c6be button');\n",
              "      quickchartButtonEl.style.display =\n",
              "        google.colab.kernel.accessAllowed ? 'block' : 'none';\n",
              "    })();\n",
              "  </script>\n",
              "</div>\n",
              "    </div>\n",
              "  </div>\n"
            ]
          },
          "metadata": {},
          "execution_count": 50
        }
      ],
      "source": [
        "# compare the values for both transactions\n",
        "balanced_train_data.groupby('Class').mean()"
      ]
    },
    {
      "cell_type": "markdown",
      "metadata": {
        "id": "TFMhFBKXSL3o"
      },
      "source": [
        "**Let's not balance and see the results **\n",
        "\n",
        "First let's scale Time and Amount to get better results\n",
        "\n",
        "\n",
        "\n",
        "\n"
      ]
    },
    {
      "cell_type": "code",
      "execution_count": null,
      "metadata": {
        "colab": {
          "base_uri": "https://localhost:8080/",
          "height": 255
        },
        "id": "2hhVSUogSG-2",
        "outputId": "a09df733-0e4a-4190-8902-e2494cb9179c"
      },
      "outputs": [
        {
          "output_type": "execute_result",
          "data": {
            "text/plain": [
              "        scaled_time  scaled_amount        V1        V2        V3        V4  \\\n",
              "258837     0.878235       0.723404  1.849293  0.080386 -1.831062  1.216023   \n",
              "6641      -0.806723      -0.172239  0.857321  4.093912 -7.423894  7.380245   \n",
              "208651     0.636280       0.217325  0.630579  1.183631 -5.066283  2.179903   \n",
              "120505    -0.049874       0.829281 -4.793667  3.418911 -5.074445  4.035987   \n",
              "245347     0.809597      -0.157345  0.051075  1.310427  0.733222  2.620282   \n",
              "\n",
              "              V5        V6        V7        V8  ...       V20       V21  \\\n",
              "258837  0.551383 -1.104685  0.846525 -0.412037  ... -0.091042  0.239588   \n",
              "6641    0.973366 -2.730762 -1.496497  0.543015  ...  0.483303  0.375026   \n",
              "208651 -0.703376 -0.103614 -3.490350  1.094734  ...  0.357369  0.621622   \n",
              "120505 -3.527875 -1.923242 -5.065981  1.996885  ...  0.342122  1.168618   \n",
              "245347  1.402358  0.528489  1.086014 -0.146423  ... -0.125877  0.229936   \n",
              "\n",
              "             V22       V23       V24       V25       V26       V27       V28  \\\n",
              "258837  0.601600 -0.087535  0.031196  0.397128 -0.514090 -0.046427 -0.057773   \n",
              "6641    0.145400  0.240603 -0.234649 -1.004881  0.435832  0.618324  0.148469   \n",
              "208651  0.043807  0.102711 -0.601505  0.127371 -0.163009  0.853792  0.356503   \n",
              "120505  0.289531 -0.371888  0.144761  0.084735 -0.197431  0.328672  0.835395   \n",
              "245347  0.766927 -0.189624  0.766853 -0.141401 -0.077278 -0.297595 -0.221816   \n",
              "\n",
              "        Class  \n",
              "258837      0  \n",
              "6641        1  \n",
              "208651      1  \n",
              "120505      1  \n",
              "245347      1  \n",
              "\n",
              "[5 rows x 31 columns]"
            ],
            "text/html": [
              "\n",
              "  <div id=\"df-0f51487e-cb83-476e-bbfc-48644c30bcee\" class=\"colab-df-container\">\n",
              "    <div>\n",
              "<style scoped>\n",
              "    .dataframe tbody tr th:only-of-type {\n",
              "        vertical-align: middle;\n",
              "    }\n",
              "\n",
              "    .dataframe tbody tr th {\n",
              "        vertical-align: top;\n",
              "    }\n",
              "\n",
              "    .dataframe thead th {\n",
              "        text-align: right;\n",
              "    }\n",
              "</style>\n",
              "<table border=\"1\" class=\"dataframe\">\n",
              "  <thead>\n",
              "    <tr style=\"text-align: right;\">\n",
              "      <th></th>\n",
              "      <th>scaled_time</th>\n",
              "      <th>scaled_amount</th>\n",
              "      <th>V1</th>\n",
              "      <th>V2</th>\n",
              "      <th>V3</th>\n",
              "      <th>V4</th>\n",
              "      <th>V5</th>\n",
              "      <th>V6</th>\n",
              "      <th>V7</th>\n",
              "      <th>V8</th>\n",
              "      <th>...</th>\n",
              "      <th>V20</th>\n",
              "      <th>V21</th>\n",
              "      <th>V22</th>\n",
              "      <th>V23</th>\n",
              "      <th>V24</th>\n",
              "      <th>V25</th>\n",
              "      <th>V26</th>\n",
              "      <th>V27</th>\n",
              "      <th>V28</th>\n",
              "      <th>Class</th>\n",
              "    </tr>\n",
              "  </thead>\n",
              "  <tbody>\n",
              "    <tr>\n",
              "      <th>258837</th>\n",
              "      <td>0.878235</td>\n",
              "      <td>0.723404</td>\n",
              "      <td>1.849293</td>\n",
              "      <td>0.080386</td>\n",
              "      <td>-1.831062</td>\n",
              "      <td>1.216023</td>\n",
              "      <td>0.551383</td>\n",
              "      <td>-1.104685</td>\n",
              "      <td>0.846525</td>\n",
              "      <td>-0.412037</td>\n",
              "      <td>...</td>\n",
              "      <td>-0.091042</td>\n",
              "      <td>0.239588</td>\n",
              "      <td>0.601600</td>\n",
              "      <td>-0.087535</td>\n",
              "      <td>0.031196</td>\n",
              "      <td>0.397128</td>\n",
              "      <td>-0.514090</td>\n",
              "      <td>-0.046427</td>\n",
              "      <td>-0.057773</td>\n",
              "      <td>0</td>\n",
              "    </tr>\n",
              "    <tr>\n",
              "      <th>6641</th>\n",
              "      <td>-0.806723</td>\n",
              "      <td>-0.172239</td>\n",
              "      <td>0.857321</td>\n",
              "      <td>4.093912</td>\n",
              "      <td>-7.423894</td>\n",
              "      <td>7.380245</td>\n",
              "      <td>0.973366</td>\n",
              "      <td>-2.730762</td>\n",
              "      <td>-1.496497</td>\n",
              "      <td>0.543015</td>\n",
              "      <td>...</td>\n",
              "      <td>0.483303</td>\n",
              "      <td>0.375026</td>\n",
              "      <td>0.145400</td>\n",
              "      <td>0.240603</td>\n",
              "      <td>-0.234649</td>\n",
              "      <td>-1.004881</td>\n",
              "      <td>0.435832</td>\n",
              "      <td>0.618324</td>\n",
              "      <td>0.148469</td>\n",
              "      <td>1</td>\n",
              "    </tr>\n",
              "    <tr>\n",
              "      <th>208651</th>\n",
              "      <td>0.636280</td>\n",
              "      <td>0.217325</td>\n",
              "      <td>0.630579</td>\n",
              "      <td>1.183631</td>\n",
              "      <td>-5.066283</td>\n",
              "      <td>2.179903</td>\n",
              "      <td>-0.703376</td>\n",
              "      <td>-0.103614</td>\n",
              "      <td>-3.490350</td>\n",
              "      <td>1.094734</td>\n",
              "      <td>...</td>\n",
              "      <td>0.357369</td>\n",
              "      <td>0.621622</td>\n",
              "      <td>0.043807</td>\n",
              "      <td>0.102711</td>\n",
              "      <td>-0.601505</td>\n",
              "      <td>0.127371</td>\n",
              "      <td>-0.163009</td>\n",
              "      <td>0.853792</td>\n",
              "      <td>0.356503</td>\n",
              "      <td>1</td>\n",
              "    </tr>\n",
              "    <tr>\n",
              "      <th>120505</th>\n",
              "      <td>-0.049874</td>\n",
              "      <td>0.829281</td>\n",
              "      <td>-4.793667</td>\n",
              "      <td>3.418911</td>\n",
              "      <td>-5.074445</td>\n",
              "      <td>4.035987</td>\n",
              "      <td>-3.527875</td>\n",
              "      <td>-1.923242</td>\n",
              "      <td>-5.065981</td>\n",
              "      <td>1.996885</td>\n",
              "      <td>...</td>\n",
              "      <td>0.342122</td>\n",
              "      <td>1.168618</td>\n",
              "      <td>0.289531</td>\n",
              "      <td>-0.371888</td>\n",
              "      <td>0.144761</td>\n",
              "      <td>0.084735</td>\n",
              "      <td>-0.197431</td>\n",
              "      <td>0.328672</td>\n",
              "      <td>0.835395</td>\n",
              "      <td>1</td>\n",
              "    </tr>\n",
              "    <tr>\n",
              "      <th>245347</th>\n",
              "      <td>0.809597</td>\n",
              "      <td>-0.157345</td>\n",
              "      <td>0.051075</td>\n",
              "      <td>1.310427</td>\n",
              "      <td>0.733222</td>\n",
              "      <td>2.620282</td>\n",
              "      <td>1.402358</td>\n",
              "      <td>0.528489</td>\n",
              "      <td>1.086014</td>\n",
              "      <td>-0.146423</td>\n",
              "      <td>...</td>\n",
              "      <td>-0.125877</td>\n",
              "      <td>0.229936</td>\n",
              "      <td>0.766927</td>\n",
              "      <td>-0.189624</td>\n",
              "      <td>0.766853</td>\n",
              "      <td>-0.141401</td>\n",
              "      <td>-0.077278</td>\n",
              "      <td>-0.297595</td>\n",
              "      <td>-0.221816</td>\n",
              "      <td>1</td>\n",
              "    </tr>\n",
              "  </tbody>\n",
              "</table>\n",
              "<p>5 rows × 31 columns</p>\n",
              "</div>\n",
              "    <div class=\"colab-df-buttons\">\n",
              "\n",
              "  <div class=\"colab-df-container\">\n",
              "    <button class=\"colab-df-convert\" onclick=\"convertToInteractive('df-0f51487e-cb83-476e-bbfc-48644c30bcee')\"\n",
              "            title=\"Convert this dataframe to an interactive table.\"\n",
              "            style=\"display:none;\">\n",
              "\n",
              "  <svg xmlns=\"http://www.w3.org/2000/svg\" height=\"24px\" viewBox=\"0 -960 960 960\">\n",
              "    <path d=\"M120-120v-720h720v720H120Zm60-500h600v-160H180v160Zm220 220h160v-160H400v160Zm0 220h160v-160H400v160ZM180-400h160v-160H180v160Zm440 0h160v-160H620v160ZM180-180h160v-160H180v160Zm440 0h160v-160H620v160Z\"/>\n",
              "  </svg>\n",
              "    </button>\n",
              "\n",
              "  <style>\n",
              "    .colab-df-container {\n",
              "      display:flex;\n",
              "      gap: 12px;\n",
              "    }\n",
              "\n",
              "    .colab-df-convert {\n",
              "      background-color: #E8F0FE;\n",
              "      border: none;\n",
              "      border-radius: 50%;\n",
              "      cursor: pointer;\n",
              "      display: none;\n",
              "      fill: #1967D2;\n",
              "      height: 32px;\n",
              "      padding: 0 0 0 0;\n",
              "      width: 32px;\n",
              "    }\n",
              "\n",
              "    .colab-df-convert:hover {\n",
              "      background-color: #E2EBFA;\n",
              "      box-shadow: 0px 1px 2px rgba(60, 64, 67, 0.3), 0px 1px 3px 1px rgba(60, 64, 67, 0.15);\n",
              "      fill: #174EA6;\n",
              "    }\n",
              "\n",
              "    .colab-df-buttons div {\n",
              "      margin-bottom: 4px;\n",
              "    }\n",
              "\n",
              "    [theme=dark] .colab-df-convert {\n",
              "      background-color: #3B4455;\n",
              "      fill: #D2E3FC;\n",
              "    }\n",
              "\n",
              "    [theme=dark] .colab-df-convert:hover {\n",
              "      background-color: #434B5C;\n",
              "      box-shadow: 0px 1px 3px 1px rgba(0, 0, 0, 0.15);\n",
              "      filter: drop-shadow(0px 1px 2px rgba(0, 0, 0, 0.3));\n",
              "      fill: #FFFFFF;\n",
              "    }\n",
              "  </style>\n",
              "\n",
              "    <script>\n",
              "      const buttonEl =\n",
              "        document.querySelector('#df-0f51487e-cb83-476e-bbfc-48644c30bcee button.colab-df-convert');\n",
              "      buttonEl.style.display =\n",
              "        google.colab.kernel.accessAllowed ? 'block' : 'none';\n",
              "\n",
              "      async function convertToInteractive(key) {\n",
              "        const element = document.querySelector('#df-0f51487e-cb83-476e-bbfc-48644c30bcee');\n",
              "        const dataTable =\n",
              "          await google.colab.kernel.invokeFunction('convertToInteractive',\n",
              "                                                    [key], {});\n",
              "        if (!dataTable) return;\n",
              "\n",
              "        const docLinkHtml = 'Like what you see? Visit the ' +\n",
              "          '<a target=\"_blank\" href=https://colab.research.google.com/notebooks/data_table.ipynb>data table notebook</a>'\n",
              "          + ' to learn more about interactive tables.';\n",
              "        element.innerHTML = '';\n",
              "        dataTable['output_type'] = 'display_data';\n",
              "        await google.colab.output.renderOutput(dataTable, element);\n",
              "        const docLink = document.createElement('div');\n",
              "        docLink.innerHTML = docLinkHtml;\n",
              "        element.appendChild(docLink);\n",
              "      }\n",
              "    </script>\n",
              "  </div>\n",
              "\n",
              "\n",
              "<div id=\"df-77969f73-dd24-4809-98c7-28390f7b9c6d\">\n",
              "  <button class=\"colab-df-quickchart\" onclick=\"quickchart('df-77969f73-dd24-4809-98c7-28390f7b9c6d')\"\n",
              "            title=\"Suggest charts.\"\n",
              "            style=\"display:none;\">\n",
              "\n",
              "<svg xmlns=\"http://www.w3.org/2000/svg\" height=\"24px\"viewBox=\"0 0 24 24\"\n",
              "     width=\"24px\">\n",
              "    <g>\n",
              "        <path d=\"M19 3H5c-1.1 0-2 .9-2 2v14c0 1.1.9 2 2 2h14c1.1 0 2-.9 2-2V5c0-1.1-.9-2-2-2zM9 17H7v-7h2v7zm4 0h-2V7h2v10zm4 0h-2v-4h2v4z\"/>\n",
              "    </g>\n",
              "</svg>\n",
              "  </button>\n",
              "\n",
              "<style>\n",
              "  .colab-df-quickchart {\n",
              "      --bg-color: #E8F0FE;\n",
              "      --fill-color: #1967D2;\n",
              "      --hover-bg-color: #E2EBFA;\n",
              "      --hover-fill-color: #174EA6;\n",
              "      --disabled-fill-color: #AAA;\n",
              "      --disabled-bg-color: #DDD;\n",
              "  }\n",
              "\n",
              "  [theme=dark] .colab-df-quickchart {\n",
              "      --bg-color: #3B4455;\n",
              "      --fill-color: #D2E3FC;\n",
              "      --hover-bg-color: #434B5C;\n",
              "      --hover-fill-color: #FFFFFF;\n",
              "      --disabled-bg-color: #3B4455;\n",
              "      --disabled-fill-color: #666;\n",
              "  }\n",
              "\n",
              "  .colab-df-quickchart {\n",
              "    background-color: var(--bg-color);\n",
              "    border: none;\n",
              "    border-radius: 50%;\n",
              "    cursor: pointer;\n",
              "    display: none;\n",
              "    fill: var(--fill-color);\n",
              "    height: 32px;\n",
              "    padding: 0;\n",
              "    width: 32px;\n",
              "  }\n",
              "\n",
              "  .colab-df-quickchart:hover {\n",
              "    background-color: var(--hover-bg-color);\n",
              "    box-shadow: 0 1px 2px rgba(60, 64, 67, 0.3), 0 1px 3px 1px rgba(60, 64, 67, 0.15);\n",
              "    fill: var(--button-hover-fill-color);\n",
              "  }\n",
              "\n",
              "  .colab-df-quickchart-complete:disabled,\n",
              "  .colab-df-quickchart-complete:disabled:hover {\n",
              "    background-color: var(--disabled-bg-color);\n",
              "    fill: var(--disabled-fill-color);\n",
              "    box-shadow: none;\n",
              "  }\n",
              "\n",
              "  .colab-df-spinner {\n",
              "    border: 2px solid var(--fill-color);\n",
              "    border-color: transparent;\n",
              "    border-bottom-color: var(--fill-color);\n",
              "    animation:\n",
              "      spin 1s steps(1) infinite;\n",
              "  }\n",
              "\n",
              "  @keyframes spin {\n",
              "    0% {\n",
              "      border-color: transparent;\n",
              "      border-bottom-color: var(--fill-color);\n",
              "      border-left-color: var(--fill-color);\n",
              "    }\n",
              "    20% {\n",
              "      border-color: transparent;\n",
              "      border-left-color: var(--fill-color);\n",
              "      border-top-color: var(--fill-color);\n",
              "    }\n",
              "    30% {\n",
              "      border-color: transparent;\n",
              "      border-left-color: var(--fill-color);\n",
              "      border-top-color: var(--fill-color);\n",
              "      border-right-color: var(--fill-color);\n",
              "    }\n",
              "    40% {\n",
              "      border-color: transparent;\n",
              "      border-right-color: var(--fill-color);\n",
              "      border-top-color: var(--fill-color);\n",
              "    }\n",
              "    60% {\n",
              "      border-color: transparent;\n",
              "      border-right-color: var(--fill-color);\n",
              "    }\n",
              "    80% {\n",
              "      border-color: transparent;\n",
              "      border-right-color: var(--fill-color);\n",
              "      border-bottom-color: var(--fill-color);\n",
              "    }\n",
              "    90% {\n",
              "      border-color: transparent;\n",
              "      border-bottom-color: var(--fill-color);\n",
              "    }\n",
              "  }\n",
              "</style>\n",
              "\n",
              "  <script>\n",
              "    async function quickchart(key) {\n",
              "      const quickchartButtonEl =\n",
              "        document.querySelector('#' + key + ' button');\n",
              "      quickchartButtonEl.disabled = true;  // To prevent multiple clicks.\n",
              "      quickchartButtonEl.classList.add('colab-df-spinner');\n",
              "      try {\n",
              "        const charts = await google.colab.kernel.invokeFunction(\n",
              "            'suggestCharts', [key], {});\n",
              "      } catch (error) {\n",
              "        console.error('Error during call to suggestCharts:', error);\n",
              "      }\n",
              "      quickchartButtonEl.classList.remove('colab-df-spinner');\n",
              "      quickchartButtonEl.classList.add('colab-df-quickchart-complete');\n",
              "    }\n",
              "    (() => {\n",
              "      let quickchartButtonEl =\n",
              "        document.querySelector('#df-77969f73-dd24-4809-98c7-28390f7b9c6d button');\n",
              "      quickchartButtonEl.style.display =\n",
              "        google.colab.kernel.accessAllowed ? 'block' : 'none';\n",
              "    })();\n",
              "  </script>\n",
              "</div>\n",
              "    </div>\n",
              "  </div>\n"
            ]
          },
          "metadata": {},
          "execution_count": 51
        }
      ],
      "source": [
        "rs = RobustScaler()\n",
        "balanced_train_data['scaled_amount'] = rs.fit_transform(balanced_train_data['Amount'].values.reshape(-1,1))\n",
        "balanced_train_data['scaled_time'] = rs.fit_transform(balanced_train_data['Time'].values.reshape(-1,1))\n",
        "\n",
        "balanced_train_data.drop(['Time', 'Amount'], axis=1, inplace=True)\n",
        "scaled_amount = balanced_train_data['scaled_amount']\n",
        "scaled_time = balanced_train_data['scaled_time']\n",
        "balanced_train_data.drop(['scaled_amount', 'scaled_time'], axis=1, inplace=True)\n",
        "balanced_train_data.insert(0, 'scaled_amount', scaled_amount)\n",
        "balanced_train_data.insert(0, 'scaled_time', scaled_time)\n",
        "balanced_train_data.head()"
      ]
    },
    {
      "cell_type": "markdown",
      "metadata": {
        "id": "y7L40SmcTYED"
      },
      "source": [
        "Secondly,we split data into separate training and test set"
      ]
    },
    {
      "cell_type": "code",
      "execution_count": null,
      "metadata": {
        "id": "3qleFkdCTcDx"
      },
      "outputs": [],
      "source": [
        "inputs = balanced_train_data.drop(\"Class\", axis=\"columns\")\n",
        "targets = balanced_train_data.Class\n",
        "x_train, x_test, y_train, y_test = train_test_split( inputs, targets, test_size=0.2, random_state=10)"
      ]
    },
    {
      "cell_type": "code",
      "execution_count": null,
      "metadata": {
        "colab": {
          "base_uri": "https://localhost:8080/"
        },
        "id": "m4O8BAH9Tm8W",
        "outputId": "2737badf-053d-4004-ef84-2ae2599071af"
      },
      "outputs": [
        {
          "output_type": "stream",
          "name": "stdout",
          "text": [
            "y test value counts:\n",
            " 1    45661\n",
            "0    45320\n",
            "Name: Class, dtype: int64 \n",
            "\n",
            "\n",
            "y train value counts:\n",
            " 0    182131\n",
            "1    181790\n",
            "Name: Class, dtype: int64\n"
          ]
        }
      ],
      "source": [
        "print(\"y test value counts:\\n\" ,y_test.value_counts(),\"\\n\\n\")\n",
        "print(\"y train value counts:\\n\" ,y_train.value_counts())"
      ]
    },
    {
      "cell_type": "markdown",
      "metadata": {
        "id": "wuTL3jBPU5Qc"
      },
      "source": [
        "then we fit the Logistic Regression model"
      ]
    },
    {
      "cell_type": "code",
      "source": [
        "from sklearn.metrics import classification_report, fbeta_score, roc_auc_score\n",
        "\n",
        "lg = LogisticRegression(max_iter=10000)\n",
        "lg.fit(x_train, y_train)\n",
        "y_predicted = lg.predict(x_test)\n",
        "accuracy = lg.score(x_test, y_test)\n",
        "\n",
        "# Calculate F2 score\n",
        "f2score = fbeta_score(y_test, y_predicted, beta=2)\n",
        "\n",
        "# Calculate ROC-AUC score\n",
        "y_proba = lg.predict_proba(x_test)[:, 1]  # Probability of class 1\n",
        "roc_auc = roc_auc_score(y_test, y_proba)\n",
        "\n",
        "print(classification_report(y_test, y_predicted))\n",
        "print(\"Accuracy:\", accuracy)\n",
        "print(\"F2 Score:\", f2score)\n",
        "print(\"ROC-AUC Score:\", roc_auc)\n"
      ],
      "metadata": {
        "colab": {
          "base_uri": "https://localhost:8080/"
        },
        "id": "bjMj7nW_yxyH",
        "outputId": "abcb4099-bdbe-49be-b872-143f8d8603c3"
      },
      "execution_count": null,
      "outputs": [
        {
          "output_type": "stream",
          "name": "stdout",
          "text": [
            "              precision    recall  f1-score   support\n",
            "\n",
            "           0       0.92      0.98      0.95     45320\n",
            "           1       0.98      0.92      0.94     45661\n",
            "\n",
            "    accuracy                           0.95     90981\n",
            "   macro avg       0.95      0.95      0.95     90981\n",
            "weighted avg       0.95      0.95      0.95     90981\n",
            "\n",
            "Accuracy: 0.9460656620613095\n",
            "F2 Score: 0.9270656887698542\n",
            "ROC-AUC Score: 0.9885296729825944\n"
          ]
        }
      ]
    },
    {
      "cell_type": "markdown",
      "metadata": {
        "id": "wmumZ1DAu_kZ"
      },
      "source": [
        "We got 99.9% accuracy without doing any balancing. Why is it then necessary to balance ? That will be answered by a confusion matrix."
      ]
    },
    {
      "cell_type": "markdown",
      "metadata": {
        "id": "mnLlX9-svIdR"
      },
      "source": [
        "Confusion matrix\n",
        "\n",
        "The Confusion Matrix is a table used to describe the performance of a classification model's true values on test data. It contains 4 different combinations of estimated and actual values.\n",
        "\n",
        "Terminology and derivations from a confusion matrix:\n",
        "\n",
        "true positive (TP): The predicted value by the model matches the actual value (The actual value was positive, and the machine learning model predicted a positive value)\n",
        "\n",
        "true negative (TN): The predicted value by the model matches the actual value (The actual value was negative, and the machine learning model predicted a negative value)\n",
        "\n",
        "false positive (FP): The machine learning model made a false prediction (The actual value was negative, but the machine learning model predicted a positive value)\n",
        "\n",
        "false negative (FN): The machine learning model made a false prediction (The actual value was positive, but the machine learning model predicted a negative value)"
      ]
    },
    {
      "cell_type": "markdown",
      "metadata": {
        "id": "Yz7TEbJMwGJi"
      },
      "source": [
        "![image.png](data:image/png;base64,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)"
      ]
    },
    {
      "cell_type": "code",
      "execution_count": null,
      "metadata": {
        "colab": {
          "base_uri": "https://localhost:8080/",
          "height": 388
        },
        "id": "x-8rJCvcwFc5",
        "outputId": "cb144493-0ae6-43c4-b352-50d0e6b273d4"
      },
      "outputs": [
        {
          "output_type": "display_data",
          "data": {
            "text/plain": [
              "<Figure size 600x400 with 2 Axes>"
            ],
            "image/png": "[encoded data removed]"
          },
          "metadata": {}
        }
      ],
      "source": [
        "confusion_matrix = metrics.confusion_matrix(y_test, y_predicted)\n",
        "\n",
        "plt.figure(figsize=(6, 4))\n",
        "sns.heatmap(confusion_matrix, annot=True, cmap='Blues' ,fmt='d')\n",
        "plt.ylabel(\"Actual Values\")\n",
        "plt.xlabel(\"Predicted Values\")\n",
        "plt.show()"
      ]
    },
    {
      "cell_type": "markdown",
      "metadata": {
        "id": "ybHNYPpEW0N6"
      },
      "source": [
        "Under-Sampling"
      ]
    },
    {
      "cell_type": "markdown",
      "metadata": {
        "id": "MlXkIGEIW3KM"
      },
      "source": [
        "Build a sample dataset containing similar distribution of normal transactions and Fraudulent Transactions"
      ]
    },
    {
      "cell_type": "markdown",
      "metadata": {
        "id": "bCj3Dee7XB0F"
      },
      "source": [
        "Number of Fraudulent Transactions --> 398"
      ]
    },
    {
      "cell_type": "code",
      "execution_count": null,
      "metadata": {
        "colab": {
          "base_uri": "https://localhost:8080/",
          "height": 255
        },
        "id": "QtWT13mKWjJ_",
        "outputId": "9f28f714-a3aa-4255-ab67-282d485fdd07"
      },
      "outputs": [
        {
          "output_type": "execute_result",
          "data": {
            "text/plain": [
              "        scaled_time  scaled_amount         V1        V2         V3        V4  \\\n",
              "57470     -0.362177      -0.174671   0.364377  1.443523  -2.220907  2.036985   \n",
              "220725     0.692964       3.106282  -1.169203  1.863414  -2.515135  5.463681   \n",
              "251904     0.841400       0.778318  -1.040067  3.106703  -5.409027  3.109903   \n",
              "167103     0.426878       2.147923   1.505913 -1.598932  -1.257979 -1.059899   \n",
              "150925     0.154653       0.278419 -13.512074  8.215177 -16.582606  6.207369   \n",
              "\n",
              "               V5        V6         V7        V8  ...       V20       V21  \\\n",
              "57470   -1.237055 -1.728161  -2.058582  0.358895  ...  0.310980  0.402730   \n",
              "220725  -0.297971  1.364918   0.759219 -0.118861  ... -0.299374 -0.393090   \n",
              "251904  -0.887237 -2.497522  -2.073347  0.639818  ...  1.054390  0.773961   \n",
              "167103  -0.028471  1.598395  -0.793099  0.544173  ...  0.197767  0.383123   \n",
              "150925 -11.318472 -2.997207 -17.640470  0.040349  ...  0.694574 -0.907906   \n",
              "\n",
              "             V22       V23       V24       V25       V26       V27       V28  \\\n",
              "57470  -0.132129 -0.032977  0.460861  0.560404  0.409366  0.539668  0.296918   \n",
              "220725 -0.708692  0.471309 -0.078616 -0.544655  0.014777 -0.240930 -0.781055   \n",
              "251904  0.214868 -0.184233 -0.284091  0.493467  0.732329  0.675067  0.337076   \n",
              "167103  0.768723  0.017741 -0.887865 -0.586399  0.765976 -0.045863 -0.036021   \n",
              "150925  1.514028 -0.141879  0.789186 -0.031343 -0.255057 -1.865831 -0.442204   \n",
              "\n",
              "        Class  \n",
              "57470       1  \n",
              "220725      1  \n",
              "251904      1  \n",
              "167103      0  \n",
              "150925      1  \n",
              "\n",
              "[5 rows x 31 columns]"
            ],
            "text/html": [
              "\n",
              "  <div id=\"df-c09cfaf2-8af9-4918-901d-c43cac7b7774\" class=\"colab-df-container\">\n",
              "    <div>\n",
              "<style scoped>\n",
              "    .dataframe tbody tr th:only-of-type {\n",
              "        vertical-align: middle;\n",
              "    }\n",
              "\n",
              "    .dataframe tbody tr th {\n",
              "        vertical-align: top;\n",
              "    }\n",
              "\n",
              "    .dataframe thead th {\n",
              "        text-align: right;\n",
              "    }\n",
              "</style>\n",
              "<table border=\"1\" class=\"dataframe\">\n",
              "  <thead>\n",
              "    <tr style=\"text-align: right;\">\n",
              "      <th></th>\n",
              "      <th>scaled_time</th>\n",
              "      <th>scaled_amount</th>\n",
              "      <th>V1</th>\n",
              "      <th>V2</th>\n",
              "      <th>V3</th>\n",
              "      <th>V4</th>\n",
              "      <th>V5</th>\n",
              "      <th>V6</th>\n",
              "      <th>V7</th>\n",
              "      <th>V8</th>\n",
              "      <th>...</th>\n",
              "      <th>V20</th>\n",
              "      <th>V21</th>\n",
              "      <th>V22</th>\n",
              "      <th>V23</th>\n",
              "      <th>V24</th>\n",
              "      <th>V25</th>\n",
              "      <th>V26</th>\n",
              "      <th>V27</th>\n",
              "      <th>V28</th>\n",
              "      <th>Class</th>\n",
              "    </tr>\n",
              "  </thead>\n",
              "  <tbody>\n",
              "    <tr>\n",
              "      <th>57470</th>\n",
              "      <td>-0.362177</td>\n",
              "      <td>-0.174671</td>\n",
              "      <td>0.364377</td>\n",
              "      <td>1.443523</td>\n",
              "      <td>-2.220907</td>\n",
              "      <td>2.036985</td>\n",
              "      <td>-1.237055</td>\n",
              "      <td>-1.728161</td>\n",
              "      <td>-2.058582</td>\n",
              "      <td>0.358895</td>\n",
              "      <td>...</td>\n",
              "      <td>0.310980</td>\n",
              "      <td>0.402730</td>\n",
              "      <td>-0.132129</td>\n",
              "      <td>-0.032977</td>\n",
              "      <td>0.460861</td>\n",
              "      <td>0.560404</td>\n",
              "      <td>0.409366</td>\n",
              "      <td>0.539668</td>\n",
              "      <td>0.296918</td>\n",
              "      <td>1</td>\n",
              "    </tr>\n",
              "    <tr>\n",
              "      <th>220725</th>\n",
              "      <td>0.692964</td>\n",
              "      <td>3.106282</td>\n",
              "      <td>-1.169203</td>\n",
              "      <td>1.863414</td>\n",
              "      <td>-2.515135</td>\n",
              "      <td>5.463681</td>\n",
              "      <td>-0.297971</td>\n",
              "      <td>1.364918</td>\n",
              "      <td>0.759219</td>\n",
              "      <td>-0.118861</td>\n",
              "      <td>...</td>\n",
              "      <td>-0.299374</td>\n",
              "      <td>-0.393090</td>\n",
              "      <td>-0.708692</td>\n",
              "      <td>0.471309</td>\n",
              "      <td>-0.078616</td>\n",
              "      <td>-0.544655</td>\n",
              "      <td>0.014777</td>\n",
              "      <td>-0.240930</td>\n",
              "      <td>-0.781055</td>\n",
              "      <td>1</td>\n",
              "    </tr>\n",
              "    <tr>\n",
              "      <th>251904</th>\n",
              "      <td>0.841400</td>\n",
              "      <td>0.778318</td>\n",
              "      <td>-1.040067</td>\n",
              "      <td>3.106703</td>\n",
              "      <td>-5.409027</td>\n",
              "      <td>3.109903</td>\n",
              "      <td>-0.887237</td>\n",
              "      <td>-2.497522</td>\n",
              "      <td>-2.073347</td>\n",
              "      <td>0.639818</td>\n",
              "      <td>...</td>\n",
              "      <td>1.054390</td>\n",
              "      <td>0.773961</td>\n",
              "      <td>0.214868</td>\n",
              "      <td>-0.184233</td>\n",
              "      <td>-0.284091</td>\n",
              "      <td>0.493467</td>\n",
              "      <td>0.732329</td>\n",
              "      <td>0.675067</td>\n",
              "      <td>0.337076</td>\n",
              "      <td>1</td>\n",
              "    </tr>\n",
              "    <tr>\n",
              "      <th>167103</th>\n",
              "      <td>0.426878</td>\n",
              "      <td>2.147923</td>\n",
              "      <td>1.505913</td>\n",
              "      <td>-1.598932</td>\n",
              "      <td>-1.257979</td>\n",
              "      <td>-1.059899</td>\n",
              "      <td>-0.028471</td>\n",
              "      <td>1.598395</td>\n",
              "      <td>-0.793099</td>\n",
              "      <td>0.544173</td>\n",
              "      <td>...</td>\n",
              "      <td>0.197767</td>\n",
              "      <td>0.383123</td>\n",
              "      <td>0.768723</td>\n",
              "      <td>0.017741</td>\n",
              "      <td>-0.887865</td>\n",
              "      <td>-0.586399</td>\n",
              "      <td>0.765976</td>\n",
              "      <td>-0.045863</td>\n",
              "      <td>-0.036021</td>\n",
              "      <td>0</td>\n",
              "    </tr>\n",
              "    <tr>\n",
              "      <th>150925</th>\n",
              "      <td>0.154653</td>\n",
              "      <td>0.278419</td>\n",
              "      <td>-13.512074</td>\n",
              "      <td>8.215177</td>\n",
              "      <td>-16.582606</td>\n",
              "      <td>6.207369</td>\n",
              "      <td>-11.318472</td>\n",
              "      <td>-2.997207</td>\n",
              "      <td>-17.640470</td>\n",
              "      <td>0.040349</td>\n",
              "      <td>...</td>\n",
              "      <td>0.694574</td>\n",
              "      <td>-0.907906</td>\n",
              "      <td>1.514028</td>\n",
              "      <td>-0.141879</td>\n",
              "      <td>0.789186</td>\n",
              "      <td>-0.031343</td>\n",
              "      <td>-0.255057</td>\n",
              "      <td>-1.865831</td>\n",
              "      <td>-0.442204</td>\n",
              "      <td>1</td>\n",
              "    </tr>\n",
              "  </tbody>\n",
              "</table>\n",
              "<p>5 rows × 31 columns</p>\n",
              "</div>\n",
              "    <div class=\"colab-df-buttons\">\n",
              "\n",
              "  <div class=\"colab-df-container\">\n",
              "    <button class=\"colab-df-convert\" onclick=\"convertToInteractive('df-c09cfaf2-8af9-4918-901d-c43cac7b7774')\"\n",
              "            title=\"Convert this dataframe to an interactive table.\"\n",
              "            style=\"display:none;\">\n",
              "\n",
              "  <svg xmlns=\"http://www.w3.org/2000/svg\" height=\"24px\" viewBox=\"0 -960 960 960\">\n",
              "    <path d=\"M120-120v-720h720v720H120Zm60-500h600v-160H180v160Zm220 220h160v-160H400v160Zm0 220h160v-160H400v160ZM180-400h160v-160H180v160Zm440 0h160v-160H620v160ZM180-180h160v-160H180v160Zm440 0h160v-160H620v160Z\"/>\n",
              "  </svg>\n",
              "    </button>\n",
              "\n",
              "  <style>\n",
              "    .colab-df-container {\n",
              "      display:flex;\n",
              "      gap: 12px;\n",
              "    }\n",
              "\n",
              "    .colab-df-convert {\n",
              "      background-color: #E8F0FE;\n",
              "      border: none;\n",
              "      border-radius: 50%;\n",
              "      cursor: pointer;\n",
              "      display: none;\n",
              "      fill: #1967D2;\n",
              "      height: 32px;\n",
              "      padding: 0 0 0 0;\n",
              "      width: 32px;\n",
              "    }\n",
              "\n",
              "    .colab-df-convert:hover {\n",
              "      background-color: #E2EBFA;\n",
              "      box-shadow: 0px 1px 2px rgba(60, 64, 67, 0.3), 0px 1px 3px 1px rgba(60, 64, 67, 0.15);\n",
              "      fill: #174EA6;\n",
              "    }\n",
              "\n",
              "    .colab-df-buttons div {\n",
              "      margin-bottom: 4px;\n",
              "    }\n",
              "\n",
              "    [theme=dark] .colab-df-convert {\n",
              "      background-color: #3B4455;\n",
              "      fill: #D2E3FC;\n",
              "    }\n",
              "\n",
              "    [theme=dark] .colab-df-convert:hover {\n",
              "      background-color: #434B5C;\n",
              "      box-shadow: 0px 1px 3px 1px rgba(0, 0, 0, 0.15);\n",
              "      filter: drop-shadow(0px 1px 2px rgba(0, 0, 0, 0.3));\n",
              "      fill: #FFFFFF;\n",
              "    }\n",
              "  </style>\n",
              "\n",
              "    <script>\n",
              "      const buttonEl =\n",
              "        document.querySelector('#df-c09cfaf2-8af9-4918-901d-c43cac7b7774 button.colab-df-convert');\n",
              "      buttonEl.style.display =\n",
              "        google.colab.kernel.accessAllowed ? 'block' : 'none';\n",
              "\n",
              "      async function convertToInteractive(key) {\n",
              "        const element = document.querySelector('#df-c09cfaf2-8af9-4918-901d-c43cac7b7774');\n",
              "        const dataTable =\n",
              "          await google.colab.kernel.invokeFunction('convertToInteractive',\n",
              "                                                    [key], {});\n",
              "        if (!dataTable) return;\n",
              "\n",
              "        const docLinkHtml = 'Like what you see? Visit the ' +\n",
              "          '<a target=\"_blank\" href=https://colab.research.google.com/notebooks/data_table.ipynb>data table notebook</a>'\n",
              "          + ' to learn more about interactive tables.';\n",
              "        element.innerHTML = '';\n",
              "        dataTable['output_type'] = 'display_data';\n",
              "        await google.colab.output.renderOutput(dataTable, element);\n",
              "        const docLink = document.createElement('div');\n",
              "        docLink.innerHTML = docLinkHtml;\n",
              "        element.appendChild(docLink);\n",
              "      }\n",
              "    </script>\n",
              "  </div>\n",
              "\n",
              "\n",
              "<div id=\"df-d0eec9ea-48cc-4bbd-b3cb-f34e3e179e7b\">\n",
              "  <button class=\"colab-df-quickchart\" onclick=\"quickchart('df-d0eec9ea-48cc-4bbd-b3cb-f34e3e179e7b')\"\n",
              "            title=\"Suggest charts.\"\n",
              "            style=\"display:none;\">\n",
              "\n",
              "<svg xmlns=\"http://www.w3.org/2000/svg\" height=\"24px\"viewBox=\"0 0 24 24\"\n",
              "     width=\"24px\">\n",
              "    <g>\n",
              "        <path d=\"M19 3H5c-1.1 0-2 .9-2 2v14c0 1.1.9 2 2 2h14c1.1 0 2-.9 2-2V5c0-1.1-.9-2-2-2zM9 17H7v-7h2v7zm4 0h-2V7h2v10zm4 0h-2v-4h2v4z\"/>\n",
              "    </g>\n",
              "</svg>\n",
              "  </button>\n",
              "\n",
              "<style>\n",
              "  .colab-df-quickchart {\n",
              "      --bg-color: #E8F0FE;\n",
              "      --fill-color: #1967D2;\n",
              "      --hover-bg-color: #E2EBFA;\n",
              "      --hover-fill-color: #174EA6;\n",
              "      --disabled-fill-color: #AAA;\n",
              "      --disabled-bg-color: #DDD;\n",
              "  }\n",
              "\n",
              "  [theme=dark] .colab-df-quickchart {\n",
              "      --bg-color: #3B4455;\n",
              "      --fill-color: #D2E3FC;\n",
              "      --hover-bg-color: #434B5C;\n",
              "      --hover-fill-color: #FFFFFF;\n",
              "      --disabled-bg-color: #3B4455;\n",
              "      --disabled-fill-color: #666;\n",
              "  }\n",
              "\n",
              "  .colab-df-quickchart {\n",
              "    background-color: var(--bg-color);\n",
              "    border: none;\n",
              "    border-radius: 50%;\n",
              "    cursor: pointer;\n",
              "    display: none;\n",
              "    fill: var(--fill-color);\n",
              "    height: 32px;\n",
              "    padding: 0;\n",
              "    width: 32px;\n",
              "  }\n",
              "\n",
              "  .colab-df-quickchart:hover {\n",
              "    background-color: var(--hover-bg-color);\n",
              "    box-shadow: 0 1px 2px rgba(60, 64, 67, 0.3), 0 1px 3px 1px rgba(60, 64, 67, 0.15);\n",
              "    fill: var(--button-hover-fill-color);\n",
              "  }\n",
              "\n",
              "  .colab-df-quickchart-complete:disabled,\n",
              "  .colab-df-quickchart-complete:disabled:hover {\n",
              "    background-color: var(--disabled-bg-color);\n",
              "    fill: var(--disabled-fill-color);\n",
              "    box-shadow: none;\n",
              "  }\n",
              "\n",
              "  .colab-df-spinner {\n",
              "    border: 2px solid var(--fill-color);\n",
              "    border-color: transparent;\n",
              "    border-bottom-color: var(--fill-color);\n",
              "    animation:\n",
              "      spin 1s steps(1) infinite;\n",
              "  }\n",
              "\n",
              "  @keyframes spin {\n",
              "    0% {\n",
              "      border-color: transparent;\n",
              "      border-bottom-color: var(--fill-color);\n",
              "      border-left-color: var(--fill-color);\n",
              "    }\n",
              "    20% {\n",
              "      border-color: transparent;\n",
              "      border-left-color: var(--fill-color);\n",
              "      border-top-color: var(--fill-color);\n",
              "    }\n",
              "    30% {\n",
              "      border-color: transparent;\n",
              "      border-left-color: var(--fill-color);\n",
              "      border-top-color: var(--fill-color);\n",
              "      border-right-color: var(--fill-color);\n",
              "    }\n",
              "    40% {\n",
              "      border-color: transparent;\n",
              "      border-right-color: var(--fill-color);\n",
              "      border-top-color: var(--fill-color);\n",
              "    }\n",
              "    60% {\n",
              "      border-color: transparent;\n",
              "      border-right-color: var(--fill-color);\n",
              "    }\n",
              "    80% {\n",
              "      border-color: transparent;\n",
              "      border-right-color: var(--fill-color);\n",
              "      border-bottom-color: var(--fill-color);\n",
              "    }\n",
              "    90% {\n",
              "      border-color: transparent;\n",
              "      border-bottom-color: var(--fill-color);\n",
              "    }\n",
              "  }\n",
              "</style>\n",
              "\n",
              "  <script>\n",
              "    async function quickchart(key) {\n",
              "      const quickchartButtonEl =\n",
              "        document.querySelector('#' + key + ' button');\n",
              "      quickchartButtonEl.disabled = true;  // To prevent multiple clicks.\n",
              "      quickchartButtonEl.classList.add('colab-df-spinner');\n",
              "      try {\n",
              "        const charts = await google.colab.kernel.invokeFunction(\n",
              "            'suggestCharts', [key], {});\n",
              "      } catch (error) {\n",
              "        console.error('Error during call to suggestCharts:', error);\n",
              "      }\n",
              "      quickchartButtonEl.classList.remove('colab-df-spinner');\n",
              "      quickchartButtonEl.classList.add('colab-df-quickchart-complete');\n",
              "    }\n",
              "    (() => {\n",
              "      let quickchartButtonEl =\n",
              "        document.querySelector('#df-d0eec9ea-48cc-4bbd-b3cb-f34e3e179e7b button');\n",
              "      quickchartButtonEl.style.display =\n",
              "        google.colab.kernel.accessAllowed ? 'block' : 'none';\n",
              "    })();\n",
              "  </script>\n",
              "</div>\n",
              "    </div>\n",
              "  </div>\n"
            ]
          },
          "metadata": {},
          "execution_count": 60
        }
      ],
      "source": [
        "train_data = pd.concat([x_train, y_train], axis=1)\n",
        "train_data.head()"
      ]
    },
    {
      "cell_type": "code",
      "execution_count": null,
      "metadata": {
        "id": "0yiXrYiRXcnE"
      },
      "outputs": [],
      "source": [
        "legit_train = train_data[train_data.Class == 0]\n",
        "fraud_train = train_data[train_data.Class == 1]\n",
        "\n"
      ]
    },
    {
      "cell_type": "code",
      "execution_count": null,
      "metadata": {
        "colab": {
          "base_uri": "https://localhost:8080/"
        },
        "id": "UuLw43AXX0bq",
        "outputId": "51a07cdc-1cb6-4bcc-f78c-685e4a0b9d4e"
      },
      "outputs": [
        {
          "output_type": "stream",
          "name": "stdout",
          "text": [
            "(182131, 31) (181790, 31)\n"
          ]
        }
      ],
      "source": [
        "#Check how many frauds we got so that we can undersample legit transactions to that number.\n",
        "print(legit_train.shape, fraud_train.shape)"
      ]
    },
    {
      "cell_type": "markdown",
      "metadata": {
        "id": "mPPZ4riVH9Sd"
      },
      "source": [
        "So, we see that there are 227447 legit transactions and 398 fraud transactions in our training data set. We will balance this dataset by randomly selecting 398 legit transactions out of 227447. This is called random undersampling."
      ]
    },
    {
      "cell_type": "code",
      "execution_count": null,
      "metadata": {
        "colab": {
          "base_uri": "https://localhost:8080/"
        },
        "id": "P_0U65qVH6rG",
        "outputId": "038f5b1d-2758-4936-dc9c-a6cae7ffbd15"
      },
      "outputs": [
        {
          "output_type": "execute_result",
          "data": {
            "text/plain": [
              "(398, 31)"
            ]
          },
          "metadata": {},
          "execution_count": 63
        }
      ],
      "source": [
        "legit_train = legit_train.sample(n=398)\n",
        "legit_train.shape"
      ]
    },
    {
      "cell_type": "code",
      "execution_count": null,
      "metadata": {
        "colab": {
          "base_uri": "https://localhost:8080/"
        },
        "id": "LTpT-_RGH67_",
        "outputId": "1a1cab52-2fb7-410b-f945-0870e4afedab"
      },
      "outputs": [
        {
          "output_type": "execute_result",
          "data": {
            "text/plain": [
              "(182188, 31)"
            ]
          },
          "metadata": {},
          "execution_count": 64
        }
      ],
      "source": [
        "#Now that we have same number of fraud and legit transactions, let's join them back to recreate a complete balanced training dataset.\n",
        "train_data = pd.concat([legit_train, fraud_train], axis=0)\n",
        "train_data.shape"
      ]
    },
    {
      "cell_type": "markdown",
      "metadata": {
        "id": "yeJsyiXFIGbM"
      },
      "source": [
        "Let's separate features and targets from the new training dataset."
      ]
    },
    {
      "cell_type": "code",
      "execution_count": null,
      "metadata": {
        "id": "ZjQmT8PyIJMu"
      },
      "outputs": [],
      "source": [
        "x_train_undersampled = train_data.drop('Class', axis='columns')\n",
        "y_train_undersampled = train_data.Class"
      ]
    },
    {
      "cell_type": "markdown",
      "metadata": {
        "id": "r4rcu2IjIMNg"
      },
      "source": [
        "We don't have to bother with the test dataset because it will stay the same. So, we will just fit the model with new x_train_new, y_train_new and old x_test, y_test."
      ]
    },
    {
      "cell_type": "markdown",
      "source": [
        "LOGISTIC REGRESSION"
      ],
      "metadata": {
        "id": "KhLA_dhgh5te"
      }
    },
    {
      "cell_type": "code",
      "execution_count": null,
      "metadata": {
        "colab": {
          "base_uri": "https://localhost:8080/"
        },
        "id": "HBRopamjIM3M",
        "outputId": "0489baaa-051b-4db2-be28-3e36fb2fa2f0"
      },
      "outputs": [
        {
          "output_type": "stream",
          "name": "stdout",
          "text": [
            "              precision    recall  f1-score   support\n",
            "\n",
            "           0       1.00      0.54      0.70     45320\n",
            "           1       0.69      1.00      0.81     45661\n",
            "\n",
            "    accuracy                           0.77     90981\n",
            "   macro avg       0.84      0.77      0.76     90981\n",
            "weighted avg       0.84      0.77      0.76     90981\n",
            "\n",
            "0.7702267506402436\n",
            "F2 Score:\n",
            "ROC-AUC Score: 0.9868203418616334\n"
          ]
        }
      ],
      "source": [
        "lg=LogisticRegression(max_iter = 10000)\n",
        "lg.fit(x_train_undersampled,y_train_undersampled)\n",
        "y_predicted = lg.predict(x_test)\n",
        "f2score = f1_score(y_test, y_predicted, average='binary', pos_label=1)\n",
        "accuracy = lg.score(x_test, y_test)\n",
        "y_proba = lg.predict_proba(x_test)[:, 1]  # Probability of class 1\n",
        "roc_auc = roc_auc_score(y_test, y_proba)\n",
        "\n",
        "\n",
        "print(classification_report(y_test,y_predicted))\n",
        "print(accuracy)\n",
        "print(\"F2 Score:\")\n",
        "print(\"ROC-AUC Score:\", roc_auc)"
      ]
    },
    {
      "cell_type": "code",
      "source": [
        "import matplotlib.pyplot as plt\n",
        "from sklearn.metrics import roc_curve\n",
        "\n",
        "# Assuming lg is already trained and y_test, y_proba are calculated\n",
        "fpr, tpr, thresholds = roc_curve(y_test, y_proba)\n",
        "\n",
        "# Plot ROC Curve\n",
        "plt.figure(figsize=(12, 6))\n",
        "\n",
        "# Subplot for ROC Curve\n",
        "plt.subplot(1, 2, 1)\n",
        "plt.plot(fpr, tpr, label='ROC Curve')\n",
        "plt.plot([0, 1], [0, 1], 'k--', label='Random Guessing')\n",
        "plt.xlabel('False Positive Rate')\n",
        "plt.ylabel('True Positive Rate')\n",
        "plt.title('ROC Curve')\n",
        "plt.legend()\n",
        "print(\"ROC-AUC Score:\", roc_auc)\n",
        "# Subplot for Accuracy\n",
        "plt.subplot(1, 2, 2)\n",
        "plt.bar(['Accuracy'], [accuracy], color='skyblue')\n",
        "plt.xlabel('Metric')\n",
        "plt.ylabel('Value')\n",
        "plt.title('Accuracy')\n",
        "print(\"Accuracy:\", accuracy)\n",
        "plt.ylim(0, 1)\n",
        "\n",
        "# Adjust layout\n",
        "plt.tight_layout()\n",
        "\n",
        "plt.show()"
      ],
      "metadata": {
        "colab": {
          "base_uri": "https://localhost:8080/",
          "height": 642
        },
        "id": "w0reB29x6x25",
        "outputId": "56b661da-a471-4191-ca73-dec7d85e4766"
      },
      "execution_count": null,
      "outputs": [
        {
          "output_type": "stream",
          "name": "stdout",
          "text": [
            "ROC-AUC Score: 0.9868203418616334\n",
            "Accuracy: 0.7702267506402436\n"
          ]
        },
        {
          "output_type": "display_data",
          "data": {
            "text/plain": [
              "<Figure size 1200x600 with 2 Axes>"
            ],
            "image/png": "[encoded data removed]"
          },
          "metadata": {}
        }
      ]
    },
    {
      "cell_type": "markdown",
      "metadata": {
        "id": "Ec4LAO7DIRaV"
      },
      "source": [
        "We got an accuracy of 96.13%. Not bad. Let's check the confusion matrix."
      ]
    },
    {
      "cell_type": "code",
      "execution_count": null,
      "metadata": {
        "colab": {
          "base_uri": "https://localhost:8080/",
          "height": 388
        },
        "id": "BUVHAt6VISDN",
        "outputId": "3f4174d4-8342-4de4-b0a7-fab45c5cf9a0"
      },
      "outputs": [
        {
          "output_type": "display_data",
          "data": {
            "text/plain": [
              "<Figure size 600x400 with 2 Axes>"
            ],
            "image/png": "[encoded data removed]"
          },
          "metadata": {}
        }
      ],
      "source": [
        "confusion_matrix = metrics.confusion_matrix(y_test, y_predicted)\n",
        "\n",
        "plt.figure(figsize=(6, 4))\n",
        "sns.heatmap(confusion_matrix, annot=True, cmap='Blues' ,fmt='d')\n",
        "plt.ylabel(\"Actual Values\")\n",
        "plt.xlabel(\"Predicted Values\")\n",
        "plt.show()"
      ]
    },
    {
      "cell_type": "markdown",
      "metadata": {
        "id": "B27o81J2IcW2"
      },
      "source": [
        "From the confusion matrix, we see that 87 fraud transactions (out of 94, which makes it 91.4% ) were accurately classified as fraud. And 54675 legit transactions (out of 56868, which makes it 96.14%) were accurately classified as legit. Only 11 fraud transactions were classified as legit transactions. This result shows that even though we got less accuracy, this model is better at predicting the fraud transactions.\n"
      ]
    },
    {
      "cell_type": "markdown",
      "source": [
        "RANDOM FOREST CLASSIFIER"
      ],
      "metadata": {
        "id": "v5t-WanSnzw7"
      }
    },
    {
      "cell_type": "code",
      "execution_count": null,
      "metadata": {
        "colab": {
          "base_uri": "https://localhost:8080/"
        },
        "id": "WnGDqoTNCeOS",
        "outputId": "539a17c0-7180-4599-83d1-87b568942cec"
      },
      "outputs": [
        {
          "output_type": "stream",
          "name": "stdout",
          "text": [
            "              precision    recall  f1-score   support\n",
            "\n",
            "           0       1.00      1.00      1.00     45320\n",
            "           1       1.00      1.00      1.00     45661\n",
            "\n",
            "    accuracy                           1.00     90981\n",
            "   macro avg       1.00      1.00      1.00     90981\n",
            "weighted avg       1.00      1.00      1.00     90981\n",
            "\n",
            "F2 Score: 0.9999693402011285\n",
            "ROC-AUC Score: 1.0\n"
          ]
        }
      ],
      "source": [
        "# Assuming you have already loaded and preprocessed the data\n",
        "\n",
        "from imblearn.over_sampling import SMOTE\n",
        "from sklearn.ensemble import RandomForestClassifier\n",
        "from sklearn.metrics import classification_report, fbeta_score, roc_auc_score\n",
        "\n",
        "\n",
        "# Apply SMOTE to balance the training data\n",
        "smote = SMOTE(random_state=42)\n",
        "X_resampled, y_resampled = smote.fit_resample(x_train, y_train)\n",
        "\n",
        "# Train a Random Forest Classifier\n",
        "rf_classifier = RandomForestClassifier(n_estimators=100, random_state=42)\n",
        "rf_classifier.fit(X_resampled, y_resampled)\n",
        "\n",
        "# Predict on the test set\n",
        "y_predicted = rf_classifier.predict(x_test)\n",
        "\n",
        "# Evaluate the model\n",
        "from sklearn.metrics import classification_report\n",
        "\n",
        "report = classification_report(y_test, y_predicted)\n",
        "print(report)\n",
        "\n",
        "f2score = fbeta_score(y_test, y_predicted, beta=2)\n",
        "\n",
        "# Calculate ROC-AUC score\n",
        "y_proba = rf_classifier.predict_proba(x_test)[:, 1]  # Probability of class 1\n",
        "roc_auc = roc_auc_score(y_test, y_proba)\n",
        "\n",
        "print(\"F2 Score:\", f2score)\n",
        "print(\"ROC-AUC Score:\", roc_auc)"
      ]
    },
    {
      "cell_type": "code",
      "source": [
        "import matplotlib.pyplot as plt\n",
        "from sklearn.metrics import roc_curve\n",
        "\n",
        "# Assuming lg is already trained and y_test, y_proba are calculated\n",
        "fpr, tpr, thresholds = roc_curve(y_test, y_proba)\n",
        "\n",
        "# Plot ROC Curve\n",
        "plt.figure(figsize=(12, 6))\n",
        "\n",
        "# Subplot for ROC Curve\n",
        "plt.subplot(1, 2, 1)\n",
        "plt.plot(fpr, tpr, label='ROC Curve')\n",
        "plt.plot([0, 1], [0, 1], 'k--', label='Random Guessing')\n",
        "plt.xlabel('False Positive Rate')\n",
        "plt.ylabel('True Positive Rate')\n",
        "plt.title('ROC Curve')\n",
        "plt.legend()\n",
        "print(\"ROC-AUC Score:\", roc_auc)\n",
        "# Subplot for Accuracy\n",
        "plt.subplot(1, 2, 2)\n",
        "plt.bar(['Accuracy'], [accuracy], color='skyblue')\n",
        "plt.xlabel('Metric')\n",
        "plt.ylabel('Value')\n",
        "plt.title('Accuracy')\n",
        "print(\"Accuracy:\", accuracy)\n",
        "plt.ylim(0, 1)\n",
        "\n",
        "# Adjust layout\n",
        "plt.tight_layout()\n",
        "\n",
        "plt.show()"
      ],
      "metadata": {
        "colab": {
          "base_uri": "https://localhost:8080/",
          "height": 642
        },
        "id": "Q1cWI8_09Cse",
        "outputId": "bc4c8a61-e50e-462e-d2ed-2cbc260eb9ef"
      },
      "execution_count": null,
      "outputs": [
        {
          "output_type": "stream",
          "name": "stdout",
          "text": [
            "ROC-AUC Score: 1.0\n",
            "Accuracy: 0.7702267506402436\n"
          ]
        },
        {
          "output_type": "display_data",
          "data": {
            "text/plain": [
              "<Figure size 1200x600 with 2 Axes>"
            ],
            "image/png": "[encoded data removed]"
          },
          "metadata": {}
        }
      ]
    },
    {
      "cell_type": "markdown",
      "source": [
        "GAUSSIAN NB"
      ],
      "metadata": {
        "id": "xDU876BDqsJU"
      }
    },
    {
      "cell_type": "code",
      "execution_count": null,
      "metadata": {
        "colab": {
          "base_uri": "https://localhost:8080/"
        },
        "id": "hC-EnLIfM9qi",
        "outputId": "27fae019-79ac-4368-e7e1-546e6904d32e"
      },
      "outputs": [
        {
          "output_type": "stream",
          "name": "stdout",
          "text": [
            "              precision    recall  f1-score   support\n",
            "\n",
            "           0       0.87      0.98      0.92     45320\n",
            "           1       0.97      0.85      0.91     45661\n",
            "\n",
            "    accuracy                           0.91     90981\n",
            "   macro avg       0.92      0.91      0.91     90981\n",
            "weighted avg       0.92      0.91      0.91     90981\n",
            "\n",
            "F2 Score: 0.8748552084549283\n",
            "ROC-AUC Score: 1.0\n"
          ]
        }
      ],
      "source": [
        "from imblearn.over_sampling import SMOTE\n",
        "from sklearn.naive_bayes import GaussianNB\n",
        "from sklearn.metrics import classification_report, fbeta_score, roc_auc_score\n",
        "\n",
        "# Apply SMOTE to balance the training data\n",
        "smote = SMOTE(random_state=42)\n",
        "X_resampled, y_resampled = smote.fit_resample(x_train, y_train)\n",
        "\n",
        "# Train a Gaussian Naive Bayes Classifier\n",
        "nb_classifier = GaussianNB()\n",
        "nb_classifier.fit(X_resampled, y_resampled)\n",
        "\n",
        "# Predict on the test set\n",
        "y_predicted = nb_classifier.predict(x_test)\n",
        "\n",
        "# Evaluate the model\n",
        "report = classification_report(y_test, y_predicted)\n",
        "print(report)\n",
        "\n",
        "f2score = fbeta_score(y_test, y_predicted, beta=2)\n",
        "\n",
        "rf_classifier = RandomForestClassifier(n_estimators=100, random_state=42)\n",
        "rf_classifier.fit(X_resampled, y_resampled)\n",
        "y_proba = rf_classifier.predict_proba(x_test)[:, 1]  # Probability of class 1\n",
        "roc_auc = roc_auc_score(y_test, y_proba)\n",
        "print(\"F2 Score:\", f2score)\n",
        "print(\"ROC-AUC Score:\", roc_auc)"
      ]
    },
    {
      "cell_type": "code",
      "source": [
        "import matplotlib.pyplot as plt\n",
        "from sklearn.metrics import roc_curve\n",
        "\n",
        "# Assuming lg is already trained and y_test, y_proba are calculated\n",
        "fpr, tpr, thresholds = roc_curve(y_test, y_proba)\n",
        "\n",
        "# Plot ROC Curve\n",
        "plt.figure(figsize=(12, 6))\n",
        "\n",
        "# Subplot for ROC Curve\n",
        "plt.subplot(1, 2, 1)\n",
        "plt.plot(fpr, tpr, label='ROC Curve')\n",
        "plt.plot([0, 1], [0, 1], 'k--', label='Random Guessing')\n",
        "plt.xlabel('False Positive Rate')\n",
        "plt.ylabel('True Positive Rate')\n",
        "plt.title('ROC Curve')\n",
        "plt.legend()\n",
        "print(\"ROC-AUC Score:\", roc_auc)\n",
        "# Subplot for Accuracy\n",
        "plt.subplot(1, 2, 2)\n",
        "plt.bar(['Accuracy'], [accuracy], color='skyblue')\n",
        "plt.xlabel('Metric')\n",
        "plt.ylabel('Value')\n",
        "plt.title('Accuracy')\n",
        "print(\"Accuracy:\", accuracy)\n",
        "plt.ylim(0, 1)\n",
        "\n",
        "# Adjust layout\n",
        "plt.tight_layout()\n",
        "\n",
        "plt.show()"
      ],
      "metadata": {
        "colab": {
          "base_uri": "https://localhost:8080/",
          "height": 642
        },
        "id": "im1nXGGG-5KE",
        "outputId": "266349fe-d9f3-4ae4-fc42-655408ced5f6"
      },
      "execution_count": null,
      "outputs": [
        {
          "output_type": "stream",
          "name": "stdout",
          "text": [
            "ROC-AUC Score: 1.0\n",
            "Accuracy: 0.7702267506402436\n"
          ]
        },
        {
          "output_type": "display_data",
          "data": {
            "text/plain": [
              "<Figure size 1200x600 with 2 Axes>"
            ],
            "image/png": "[encoded data removed]"
          },
          "metadata": {}
        }
      ]
    },
    {
      "cell_type": "markdown",
      "source": [
        "KNN"
      ],
      "metadata": {
        "id": "cgo9B4Aoqw8j"
      }
    },
    {
      "cell_type": "code",
      "source": [
        "from imblearn.over_sampling import SMOTE\n",
        "from sklearn.neighbors import KNeighborsClassifier\n",
        "from sklearn.metrics import classification_report, fbeta_score, roc_auc_score\n",
        "\n",
        "# Apply SMOTE to balance the training data\n",
        "smote = SMOTE(random_state=42)\n",
        "X_resampled, y_resampled = smote.fit_resample(x_train, y_train)\n",
        "\n",
        "# Train a k-Nearest Neighbors Classifier\n",
        "knn_classifier = KNeighborsClassifier(n_neighbors=5)  # You can change the number of neighbors\n",
        "knn_classifier.fit(X_resampled, y_resampled)\n",
        "\n",
        "# Predict on the test set\n",
        "y_predicted = knn_classifier.predict(x_test)\n",
        "\n",
        "# Evaluate the model\n",
        "report = classification_report(y_test, y_predicted)\n",
        "print(report)\n",
        "\n",
        "f2score = fbeta_score(y_test, y_predicted, beta=2)\n",
        "y_proba = rf_classifier.predict_proba(x_test)[:, 1]  # Probability of class 1\n",
        "roc_auc = roc_auc_score(y_test, y_proba)\n",
        "print(\"F2 Score:\", f2score)\n",
        "print(\"ROC-AUC Score:\", roc_auc)\n"
      ],
      "metadata": {
        "colab": {
          "base_uri": "https://localhost:8080/"
        },
        "id": "77ocFvBoZ3KB",
        "outputId": "8def1c39-dcca-4bef-e252-859b2856ee46"
      },
      "execution_count": null,
      "outputs": [
        {
          "output_type": "stream",
          "name": "stdout",
          "text": [
            "              precision    recall  f1-score   support\n",
            "\n",
            "           0       1.00      1.00      1.00     45320\n",
            "           1       1.00      1.00      1.00     45661\n",
            "\n",
            "    accuracy                           1.00     90981\n",
            "   macro avg       1.00      1.00      1.00     90981\n",
            "weighted avg       1.00      1.00      1.00     90981\n",
            "\n",
            "F2 Score: 0.9998554774063013\n",
            "ROC-AUC Score: 1.0\n"
          ]
        }
      ]
    },
    {
      "cell_type": "code",
      "source": [
        "import matplotlib.pyplot as plt\n",
        "from sklearn.metrics import roc_curve\n",
        "\n",
        "# Assuming lg is already trained and y_test, y_proba are calculated\n",
        "fpr, tpr, thresholds = roc_curve(y_test, y_proba)\n",
        "\n",
        "# Plot ROC Curve\n",
        "plt.figure(figsize=(12, 6))\n",
        "\n",
        "# Subplot for ROC Curve\n",
        "plt.subplot(1, 2, 1)\n",
        "plt.plot(fpr, tpr, label='ROC Curve')\n",
        "plt.plot([0, 1], [0, 1], 'k--', label='Random Guessing')\n",
        "plt.xlabel('False Positive Rate')\n",
        "plt.ylabel('True Positive Rate')\n",
        "plt.title('ROC Curve')\n",
        "plt.legend()\n",
        "print(\"ROC-AUC Score:\", roc_auc)\n",
        "# Subplot for Accuracy\n",
        "plt.subplot(1, 2, 2)\n",
        "plt.bar(['Accuracy'], [accuracy], color='skyblue')\n",
        "plt.xlabel('Metric')\n",
        "plt.ylabel('Value')\n",
        "plt.title('Accuracy')\n",
        "print(\"Accuracy:\", accuracy)\n",
        "plt.ylim(0, 1)\n",
        "\n",
        "# Adjust layout\n",
        "plt.tight_layout()\n",
        "\n",
        "plt.show()"
      ],
      "metadata": {
        "colab": {
          "base_uri": "https://localhost:8080/",
          "height": 642
        },
        "id": "8mca3XJ5A0M7",
        "outputId": "b9f43b90-2935-43c7-a201-2ac5379a91fb"
      },
      "execution_count": null,
      "outputs": [
        {
          "output_type": "stream",
          "name": "stdout",
          "text": [
            "ROC-AUC Score: 1.0\n",
            "Accuracy: 0.7702267506402436\n"
          ]
        },
        {
          "output_type": "display_data",
          "data": {
            "text/plain": [
              "<Figure size 1200x600 with 2 Axes>"
            ],
            "image/png": "[encoded data removed]"
          },
          "metadata": {}
        }
      ]
    },
    {
      "cell_type": "markdown",
      "source": [
        "DECISION TREE CLASSIFIER"
      ],
      "metadata": {
        "id": "hG8fdNnmrAs3"
      }
    },
    {
      "cell_type": "code",
      "source": [
        "from imblearn.over_sampling import SMOTE\n",
        "from sklearn.tree import DecisionTreeClassifier\n",
        "from sklearn.metrics import classification_report, fbeta_score, roc_auc_score\n",
        "\n",
        "# Apply SMOTE to balance the training data\n",
        "smote = SMOTE(random_state=42)\n",
        "X_resampled, y_resampled = smote.fit_resample(x_train, y_train)\n",
        "\n",
        "# Train a Decision Tree Classifier\n",
        "dt_classifier = DecisionTreeClassifier(random_state=42)\n",
        "dt_classifier.fit(X_resampled, y_resampled)\n",
        "\n",
        "# Predict on the test set\n",
        "y_predicted = dt_classifier.predict(x_test)\n",
        "\n",
        "# Evaluate the model\n",
        "report = classification_report(y_test, y_predicted)\n",
        "print(report)\n",
        "\n",
        "f2score = fbeta_score(y_test, y_predicted, beta=2)\n",
        "y_proba = rf_classifier.predict_proba(x_test)[:, 1]  # Probability of class 1\n",
        "roc_auc = roc_auc_score(y_test, y_proba)\n",
        "print(\"F2 Score:\", f2score)\n",
        "print(\"ROC-AUC Score:\", roc_auc)"
      ],
      "metadata": {
        "colab": {
          "base_uri": "https://localhost:8080/"
        },
        "id": "4rcTA9YYZ8D1",
        "outputId": "c513feec-52d7-49d7-ce36-8d3d41cb22cf"
      },
      "execution_count": null,
      "outputs": [
        {
          "output_type": "stream",
          "name": "stdout",
          "text": [
            "              precision    recall  f1-score   support\n",
            "\n",
            "           0       1.00      1.00      1.00     45320\n",
            "           1       1.00      1.00      1.00     45661\n",
            "\n",
            "    accuracy                           1.00     90981\n",
            "   macro avg       1.00      1.00      1.00     90981\n",
            "weighted avg       1.00      1.00      1.00     90981\n",
            "\n",
            "F2 Score: 0.9998817511343131\n",
            "ROC-AUC Score: 1.0\n"
          ]
        }
      ]
    },
    {
      "cell_type": "code",
      "source": [
        "import matplotlib.pyplot as plt\n",
        "from sklearn.metrics import roc_curve\n",
        "\n",
        "# Assuming lg is already trained and y_test, y_proba are calculated\n",
        "fpr, tpr, thresholds = roc_curve(y_test, y_proba)\n",
        "\n",
        "# Plot ROC Curve\n",
        "plt.figure(figsize=(12, 6))\n",
        "\n",
        "# Subplot for ROC Curve\n",
        "plt.subplot(1, 2, 1)\n",
        "plt.plot(fpr, tpr, label='ROC Curve')\n",
        "plt.plot([0, 1], [0, 1], 'k--', label='Random Guessing')\n",
        "plt.xlabel('False Positive Rate')\n",
        "plt.ylabel('True Positive Rate')\n",
        "plt.title('ROC Curve')\n",
        "plt.legend()\n",
        "print(\"ROC-AUC Score:\", roc_auc)\n",
        "# Subplot for Accuracy\n",
        "plt.subplot(1, 2, 2)\n",
        "plt.bar(['Accuracy'], [accuracy], color='skyblue')\n",
        "plt.xlabel('Metric')\n",
        "plt.ylabel('Value')\n",
        "plt.title('Accuracy')\n",
        "print(\"Accuracy:\", accuracy)\n",
        "plt.ylim(0, 1)\n",
        "\n",
        "# Adjust layout\n",
        "plt.tight_layout()\n",
        "\n",
        "plt.show()"
      ],
      "metadata": {
        "id": "5HnslWFLB8sw",
        "outputId": "cc0e4694-229f-4521-ee5f-1de71a381539",
        "colab": {
          "base_uri": "https://localhost:8080/",
          "height": 642
        }
      },
      "execution_count": null,
      "outputs": [
        {
          "output_type": "stream",
          "name": "stdout",
          "text": [
            "ROC-AUC Score: 1.0\n",
            "Accuracy: 0.7702267506402436\n"
          ]
        },
        {
          "output_type": "display_data",
          "data": {
            "text/plain": [
              "<Figure size 1200x600 with 2 Axes>"
            ],
            "image/png": "[encoded data removed]"
          },
          "metadata": {}
        }
      ]
    },
    {
      "cell_type": "markdown",
      "source": [
        "RESULTS OF MACHINE LEARNING MODELS"
      ],
      "metadata": {
        "id": "_25px6LSxkSv"
      }
    },
    {
      "cell_type": "markdown",
      "source": [
        "![image.png](data:image/png;base64,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)"
      ],
      "metadata": {
        "id": "turUPU5swrko"
      }
    }
  ],
  "metadata": {
    "colab": {
      "provenance": [],
      "include_colab_link": true
    },
    "kernelspec": {
      "display_name": "Python 3",
      "name": "python3"
    },
    "language_info": {
      "name": "python"
    }
  },
  "nbformat": 4,
  "nbformat_minor": 0
}